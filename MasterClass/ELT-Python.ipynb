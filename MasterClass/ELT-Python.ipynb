{
 "cells": [
  {
   "cell_type": "markdown",
   "id": "b22b4187",
   "metadata": {},
   "source": [
    "# ELT - Pandas"
   ]
  },
  {
   "cell_type": "code",
   "execution_count": 4,
   "id": "6eb958b8",
   "metadata": {},
   "outputs": [],
   "source": [
    "import pandas as pd\n",
    "import requests\n",
    "import json"
   ]
  },
  {
   "cell_type": "code",
   "execution_count": 2,
   "id": "ad00d7e4",
   "metadata": {},
   "outputs": [],
   "source": [
    "request_list=[]"
   ]
  },
  {
   "cell_type": "code",
   "execution_count": 3,
   "id": "5c39fca3",
   "metadata": {},
   "outputs": [],
   "source": [
    "#API_KEY = 'c464412d10f42c63863430d1e0285ca6'#'12345678910ccc' #load from a file"
   ]
  },
  {
   "cell_type": "code",
   "execution_count": null,
   "id": "6b239b82",
   "metadata": {},
   "outputs": [],
   "source": [
    "for movie_id in range(550,556):\n",
    "    r = requests.get('https://api.themoviedb.org/3/movie/{}?api_key={}'.format(movie_id, API_KEY))\n",
    "    response_list.append(r.json())"
   ]
  },
  {
   "cell_type": "code",
   "execution_count": null,
   "id": "a7cff5b8",
   "metadata": {},
   "outputs": [],
   "source": [
    "df = pd.DataFrame.from_dict(response_list) #tidy"
   ]
  },
  {
   "cell_type": "code",
   "execution_count": null,
   "id": "12019bb2",
   "metadata": {},
   "outputs": [],
   "source": [
    "df.shape"
   ]
  },
  {
   "cell_type": "code",
   "execution_count": null,
   "id": "6fb9e3d0",
   "metadata": {},
   "outputs": [],
   "source": [
    "df.head()"
   ]
  },
  {
   "cell_type": "code",
   "execution_count": null,
   "id": "1cc385cf",
   "metadata": {},
   "outputs": [],
   "source": [
    "#tratamos genres (que esta en format diccionari)\n",
    "genres_list = df['genres'].tolist()"
   ]
  },
  {
   "cell_type": "code",
   "execution_count": null,
   "id": "e903bf00",
   "metadata": {},
   "outputs": [],
   "source": [
    "#comprehension list\n",
    "flat_list = [item for sublist in genres_list for item in sublist]"
   ]
  },
  {
   "cell_type": "code",
   "execution_count": null,
   "id": "645262f0",
   "metadata": {},
   "outputs": [],
   "source": [
    "result = []\n",
    "for l in genres_list:\n",
    "    r = []\n",
    "    for d in l:\n",
    "        r.append(d['name'])\n",
    "        \n",
    "    result.append(r)\n",
    "# \n",
    "# si tenim molt volum de dades s'ha utilitzar un altre: aplay, mab o aixi (?)"
   ]
  },
  {
   "cell_type": "code",
   "execution_count": null,
   "id": "c47e2227",
   "metadata": {},
   "outputs": [],
   "source": [
    "#una altre forma de fer un nou camp\n",
    "df = df.assign(genres_all=result)"
   ]
  },
  {
   "cell_type": "code",
   "execution_count": null,
   "id": "e4f4e0ff",
   "metadata": {},
   "outputs": [],
   "source": [
    "# crear dataframe a traves de flatlist:\n",
    "df_genres = pd.DataFrame.from_records(flat_list).drop_duplicates()"
   ]
  },
  {
   "cell_type": "code",
   "execution_count": null,
   "id": "f2d60965",
   "metadata": {},
   "outputs": [],
   "source": [
    "df_genres.head()"
   ]
  },
  {
   "cell_type": "code",
   "execution_count": 5,
   "id": "66db544c",
   "metadata": {},
   "outputs": [],
   "source": [
    "df_columns = ['budget','id','imdb_id', 'original_title', 'release_date', 'revenue', 'runtime']"
   ]
  },
  {
   "cell_type": "code",
   "execution_count": null,
   "id": "2df2a7f9",
   "metadata": {},
   "outputs": [],
   "source": [
    "df_genre_columns = df_genres['name'].to_list()"
   ]
  },
  {
   "cell_type": "code",
   "execution_count": null,
   "id": "c2b72386",
   "metadata": {},
   "outputs": [],
   "source": [
    "#extend les columnes del df_columns:\n",
    "df_columns.extend(df_genre_columns)"
   ]
  },
  {
   "cell_type": "code",
   "execution_count": null,
   "id": "1a3d16ef",
   "metadata": {},
   "outputs": [],
   "source": [
    "#agafem la columna del df\n",
    "s = df['genres_all'].explode() #descomposa l'array en el nombre de registres que hi ha a l'array (ordenats )"
   ]
  },
  {
   "cell_type": "code",
   "execution_count": null,
   "id": "2cd41758",
   "metadata": {},
   "outputs": [],
   "source": [
    "df = df.join(pd.crosstab(s.index,s)) #s.index son els valors de l'expode"
   ]
  },
  {
   "cell_type": "code",
   "execution_count": null,
   "id": "2880ffdb",
   "metadata": {},
   "outputs": [],
   "source": [
    "df.head()"
   ]
  },
  {
   "cell_type": "code",
   "execution_count": null,
   "id": "2d92a456",
   "metadata": {},
   "outputs": [],
   "source": [
    "#date transformations\n",
    "df['release_date'] = pd.to_datetime(df['release_date'])"
   ]
  },
  {
   "cell_type": "code",
   "execution_count": null,
   "id": "47f9a2d3",
   "metadata": {},
   "outputs": [],
   "source": [
    "df.head()"
   ]
  },
  {
   "cell_type": "code",
   "execution_count": null,
   "id": "d4fac5c3",
   "metadata": {},
   "outputs": [],
   "source": [
    "df['day'] = df['release_date'].dt.day"
   ]
  },
  {
   "cell_type": "code",
   "execution_count": null,
   "id": "fe816c0e",
   "metadata": {},
   "outputs": [],
   "source": [
    "df['month'] = df['release_date'].dt.month"
   ]
  },
  {
   "cell_type": "code",
   "execution_count": null,
   "id": "5b76f5c5",
   "metadata": {},
   "outputs": [],
   "source": [
    "df['year'] = df['release_date'].dt.year"
   ]
  },
  {
   "cell_type": "code",
   "execution_count": null,
   "id": "8e6d16ac",
   "metadata": {},
   "outputs": [],
   "source": [
    "#load\n",
    "df[df_columns].to_csv('data_genres_movies.csv', index=False)"
   ]
  },
  {
   "cell_type": "code",
   "execution_count": null,
   "id": "91782ec7",
   "metadata": {},
   "outputs": [],
   "source": []
  }
 ],
 "metadata": {
  "kernelspec": {
   "display_name": "Python 3 (ipykernel)",
   "language": "python",
   "name": "python3"
  },
  "language_info": {
   "codemirror_mode": {
    "name": "ipython",
    "version": 3
   },
   "file_extension": ".py",
   "mimetype": "text/x-python",
   "name": "python",
   "nbconvert_exporter": "python",
   "pygments_lexer": "ipython3",
   "version": "3.9.7"
  },
  "latex_envs": {
   "LaTeX_envs_menu_present": true,
   "autoclose": false,
   "autocomplete": true,
   "bibliofile": "biblio.bib",
   "cite_by": "apalike",
   "current_citInitial": 1,
   "eqLabelWithNumbers": true,
   "eqNumInitial": 1,
   "hotkeys": {
    "equation": "Ctrl-E",
    "itemize": "Ctrl-I"
   },
   "labels_anchors": false,
   "latex_user_defs": false,
   "report_style_numbering": false,
   "user_envs_cfg": false
  }
 },
 "nbformat": 4,
 "nbformat_minor": 5
}
