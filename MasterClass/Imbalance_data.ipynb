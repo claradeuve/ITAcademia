{
 "cells": [
  {
   "cell_type": "markdown",
   "id": "fec76a99",
   "metadata": {},
   "source": [
    "# Imbalanced data"
   ]
  },
  {
   "cell_type": "code",
   "execution_count": 1,
   "id": "f414e713",
   "metadata": {},
   "outputs": [],
   "source": [
    "from imblearn.over_sampling import SMOTE"
   ]
  },
  {
   "cell_type": "code",
   "execution_count": 3,
   "id": "2091c4f5",
   "metadata": {},
   "outputs": [],
   "source": [
    "import pandas as pd\n",
    "import numpy as np\n",
    "import matplotlib.pyplot as plt"
   ]
  },
  {
   "cell_type": "code",
   "execution_count": null,
   "id": "0f01d249",
   "metadata": {},
   "outputs": [],
   "source": [
    "data = pd.read_csv('creditcard.csv')"
   ]
  },
  {
   "cell_type": "code",
   "execution_count": null,
   "id": "379d2c48",
   "metadata": {},
   "outputs": [],
   "source": [
    "data.head()"
   ]
  },
  {
   "cell_type": "code",
   "execution_count": null,
   "id": "83c55a8a",
   "metadata": {},
   "outputs": [],
   "source": [
    "data['Class'].value_counts().plot.bar()"
   ]
  },
  {
   "cell_type": "code",
   "execution_count": null,
   "id": "ef448ff2",
   "metadata": {},
   "outputs": [],
   "source": [
    "data.Class.value_counts() / len(data)"
   ]
  },
  {
   "cell_type": "code",
   "execution_count": null,
   "id": "24df30b9",
   "metadata": {},
   "outputs": [],
   "source": [
    "data = data.drop(['Time'], axis=1)"
   ]
  },
  {
   "cell_type": "code",
   "execution_count": null,
   "id": "5a1d15c5",
   "metadata": {},
   "outputs": [],
   "source": [
    "data.columns"
   ]
  },
  {
   "cell_type": "code",
   "execution_count": null,
   "id": "cdde8cca",
   "metadata": {},
   "outputs": [],
   "source": [
    "X = np.array(data.loc[:, data.columns!= 'Class'])"
   ]
  },
  {
   "cell_type": "code",
   "execution_count": null,
   "id": "fba375d9",
   "metadata": {},
   "outputs": [],
   "source": [
    "y = np.array(data.loc[:, data.columns == 'Class']).reshape(-1,1)"
   ]
  },
  {
   "cell_type": "code",
   "execution_count": null,
   "id": "5582e8d9",
   "metadata": {},
   "outputs": [],
   "source": [
    "# estandaritzar les dades\n",
    "from sklearn.preprocessing import StandardScaler\n",
    "\n",
    "scaler = StandardScaler()\n",
    "X_scaled = scaler.fit_transform(X)"
   ]
  },
  {
   "cell_type": "code",
   "execution_count": null,
   "id": "828dd548",
   "metadata": {},
   "outputs": [],
   "source": [
    "from sklearn.model_selection import train_test_split"
   ]
  },
  {
   "cell_type": "code",
   "execution_count": null,
   "id": "aa2211c8",
   "metadata": {},
   "outputs": [],
   "source": [
    "X_train, X_test, y_train, y_test = train_test_split(X_scaled,y, test_size=0.33, \n",
    "                                                    random_state=2, shuffle=True, stratify=yes)"
   ]
  },
  {
   "cell_type": "code",
   "execution_count": null,
   "id": "a1da1e7c",
   "metadata": {},
   "outputs": [],
   "source": [
    "X_train"
   ]
  },
  {
   "cell_type": "code",
   "execution_count": null,
   "id": "260e44c6",
   "metadata": {},
   "outputs": [],
   "source": [
    "#model regressio logistica\n",
    "from sklearn.linear_model import LogisticRegression\n",
    "from sklearn.metrics import accuracy_score"
   ]
  },
  {
   "cell_type": "code",
   "execution_count": null,
   "id": "1fc8df1f",
   "metadata": {},
   "outputs": [],
   "source": [
    "clf = LogisticRegression(solver='lbfgs')"
   ]
  },
  {
   "cell_type": "code",
   "execution_count": null,
   "id": "32405341",
   "metadata": {},
   "outputs": [],
   "source": [
    "# sense SMOTE"
   ]
  },
  {
   "cell_type": "code",
   "execution_count": null,
   "id": "d382f424",
   "metadata": {},
   "outputs": [],
   "source": [
    "clf.fit(X_train, y_train.ravel())"
   ]
  },
  {
   "cell_type": "code",
   "execution_count": null,
   "id": "bafd8385",
   "metadata": {},
   "outputs": [],
   "source": [
    "train_pred = clf.predict(X_train)\n",
    "test_pred = clf.predict(X_test)"
   ]
  },
  {
   "cell_type": "code",
   "execution_count": null,
   "id": "0039a5c5",
   "metadata": {},
   "outputs": [],
   "source": [
    "train_pred"
   ]
  },
  {
   "cell_type": "code",
   "execution_count": null,
   "id": "48a23e1a",
   "metadata": {},
   "outputs": [],
   "source": [
    "test_pred"
   ]
  },
  {
   "cell_type": "code",
   "execution_count": null,
   "id": "b58ece31",
   "metadata": {},
   "outputs": [],
   "source": [
    "accuracy_score(train_pred, y_train)"
   ]
  },
  {
   "cell_type": "code",
   "execution_count": null,
   "id": "ab7abe30",
   "metadata": {},
   "outputs": [],
   "source": [
    "accuracy_score(test_pred, y_test)"
   ]
  },
  {
   "cell_type": "code",
   "execution_count": null,
   "id": "83aa6e34",
   "metadata": {},
   "outputs": [],
   "source": [
    "#confusion matrix\n",
    "pd.crosstab(ytrain.ravel(), train_pred, rownames=['True'], colnames=['Predicted'], margins=True)"
   ]
  },
  {
   "cell_type": "code",
   "execution_count": null,
   "id": "8ec5df56",
   "metadata": {},
   "outputs": [],
   "source": []
  },
  {
   "cell_type": "code",
   "execution_count": null,
   "id": "f7731fa2",
   "metadata": {},
   "outputs": [],
   "source": [
    "# with SMOTE"
   ]
  },
  {
   "cell_type": "code",
   "execution_count": null,
   "id": "2e09afaa",
   "metadata": {},
   "outputs": [],
   "source": [
    "sm = SMOTE(random_state=10)"
   ]
  },
  {
   "cell_type": "code",
   "execution_count": null,
   "id": "e7e5d741",
   "metadata": {},
   "outputs": [],
   "source": [
    "X_train_new, y_train_new = sm.fit_sample(X_train, y_train.ravel())"
   ]
  },
  {
   "cell_type": "code",
   "execution_count": null,
   "id": "d1435df6",
   "metadata": {},
   "outputs": [],
   "source": [
    "pd.Series(y_train_news).value_counts().plot.bar()"
   ]
  },
  {
   "cell_type": "code",
   "execution_count": null,
   "id": "034c4d59",
   "metadata": {},
   "outputs": [],
   "source": [
    "clf.fit(X_train_new, y_train_new)"
   ]
  },
  {
   "cell_type": "code",
   "execution_count": null,
   "id": "64070fad",
   "metadata": {},
   "outputs": [],
   "source": [
    "train_pred_sm = clf.predict(X_train_new)\n",
    "test_pred_sm = clf.predict(X_test)"
   ]
  },
  {
   "cell_type": "code",
   "execution_count": null,
   "id": "b8bcbe18",
   "metadata": {},
   "outputs": [],
   "source": [
    "accuracy_score(train_pred_sm, y_train_new)"
   ]
  },
  {
   "cell_type": "code",
   "execution_count": null,
   "id": "e28867e9",
   "metadata": {},
   "outputs": [],
   "source": [
    "accuracy_score(test_pred_sm, y_test)"
   ]
  },
  {
   "cell_type": "code",
   "execution_count": null,
   "id": "81b80332",
   "metadata": {},
   "outputs": [],
   "source": [
    "pd.crosstab(y_test.ravel(), test_pred_sm, rownames=['True'], colnames=['Predicted'], margins=True)"
   ]
  },
  {
   "cell_type": "code",
   "execution_count": null,
   "id": "597779da",
   "metadata": {},
   "outputs": [],
   "source": []
  },
  {
   "cell_type": "code",
   "execution_count": null,
   "id": "64702785",
   "metadata": {},
   "outputs": [],
   "source": []
  }
 ],
 "metadata": {
  "kernelspec": {
   "display_name": "Python 3 (ipykernel)",
   "language": "python",
   "name": "python3"
  },
  "language_info": {
   "codemirror_mode": {
    "name": "ipython",
    "version": 3
   },
   "file_extension": ".py",
   "mimetype": "text/x-python",
   "name": "python",
   "nbconvert_exporter": "python",
   "pygments_lexer": "ipython3",
   "version": "3.9.7"
  },
  "latex_envs": {
   "LaTeX_envs_menu_present": true,
   "autoclose": false,
   "autocomplete": true,
   "bibliofile": "biblio.bib",
   "cite_by": "apalike",
   "current_citInitial": 1,
   "eqLabelWithNumbers": true,
   "eqNumInitial": 1,
   "hotkeys": {
    "equation": "Ctrl-E",
    "itemize": "Ctrl-I"
   },
   "labels_anchors": false,
   "latex_user_defs": false,
   "report_style_numbering": false,
   "user_envs_cfg": false
  }
 },
 "nbformat": 4,
 "nbformat_minor": 5
}
