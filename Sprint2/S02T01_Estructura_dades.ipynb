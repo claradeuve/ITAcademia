{
 "cells": [
  {
   "cell_type": "markdown",
   "id": "08d66be3",
   "metadata": {},
   "source": [
    "# Nivell 1"
   ]
  },
  {
   "cell_type": "markdown",
   "id": "a8e02412",
   "metadata": {},
   "source": [
    "## Exercici 1: Crea una llista que agrupi els mesos de l’any en trimestres (1T: Gener, Febrer i Març, 2T: Abril, Maig, Juny...), és a dir, una llista amb 4 llistes dins. "
   ]
  },
  {
   "cell_type": "code",
   "execution_count": 1,
   "id": "272aa4d7",
   "metadata": {},
   "outputs": [],
   "source": [
    "import numpy as np\n",
    "\n",
    "#make the lists of months and terms:\n",
    "months = ['Gener', 'Febrer', 'Marc', 'Abril', 'Maig', 'Juny', 'Juliol', 'Agost', 'Setembre', 'Octubre', \n",
    "          'November', 'Decembre']\n",
    "terms = ['1T', '2T', '3T', '4T']"
   ]
  },
  {
   "cell_type": "code",
   "execution_count": 21,
   "id": "e21303e7",
   "metadata": {},
   "outputs": [
    {
     "name": "stdout",
     "output_type": "stream",
     "text": [
      "{'1T': ['Gener', 'Febrer', 'Marc'], '2T': ['Abril', 'Maig', 'Juny'], '3T': ['Juliol', 'Agost', 'Setembre'], '4T': ['Octubre', 'November', 'Decembre']}\n"
     ]
    }
   ],
   "source": [
    "#AKESTA FUNCIO CREA UN DICCIONARI:\n",
    "#split the month list in 4 chuncks (one for each term)\n",
    "grup = list()\n",
    "numx = 3 # number of months in each chunck\n",
    "for x in range(0,len(months),numx):\n",
    "    grup.append(months[x:x+numx])\n",
    "\n",
    "#now rename the each chunck which are 0 to 3 by using terms list.\n",
    "llista = {terms[i]:grup[i] for i in range(len(terms))}\n",
    "        \n",
    "print(llista)"
   ]
  },
  {
   "cell_type": "code",
   "execution_count": 7,
   "id": "b00946c6",
   "metadata": {},
   "outputs": [
    {
     "name": "stdout",
     "output_type": "stream",
     "text": [
      "[['Gener', 'Febrer', 'Marc'], ['Abril', 'Maig', 'Juny'], ['Juliol', 'Agost', 'Setembre'], ['Octubre', 'November', 'Decembre']]\n"
     ]
    }
   ],
   "source": [
    "#CORRECTION:\n",
    "\n",
    "# we write months list in 4 chuncks\n",
    "grup = []\n",
    "numx = 3 # number of months in each chunck\n",
    "for x in range(0,len(months),numx):\n",
    "    grup.append(months[x:x+numx])\n",
    "\n",
    "print(grup)"
   ]
  },
  {
   "cell_type": "markdown",
   "id": "1973cdb0",
   "metadata": {},
   "source": [
    "## Exercici 2: Crea un codi que et permeti accedir a:\n",
    "* El segon mes del primer trimestre\n",
    "* Els mesos del primer trimestre\n",
    "* Setembre i octubre"
   ]
  },
  {
   "cell_type": "code",
   "execution_count": 165,
   "id": "13d36fd2",
   "metadata": {},
   "outputs": [
    {
     "name": "stdout",
     "output_type": "stream",
     "text": [
      "Febrer\n",
      "['Gener', 'Febrer', 'Marc']\n",
      "Setembre Octubre\n"
     ]
    }
   ],
   "source": [
    "# AIXO ES PER ACCEDIR A DICCIONARIS.\n",
    "import numpy as np\n",
    "\n",
    "# get the second month of the first term:\n",
    "# first we acced to the first term:\n",
    "a = llista['1T']\n",
    "# now we pick the second month, that in python translates as the value with index 1.\n",
    "print(a[1])\n",
    "\n",
    "\n",
    "# list of all months of the first term:\n",
    "print(llista['1T'])\n",
    "\n",
    "\n",
    "# We want to go to the months of: Setembre i Octubre\n",
    "a = llista['3T'] # this access to third term => september term, in which setembre is the 3rd month (index 2)\n",
    "b = llista['4T'] # this acceds to fourth term => october term, in which october is the 1st month (index 0)\n",
    "print(a[2], b[0])"
   ]
  },
  {
   "cell_type": "code",
   "execution_count": 11,
   "id": "5c986b84",
   "metadata": {},
   "outputs": [
    {
     "name": "stdout",
     "output_type": "stream",
     "text": [
      "Febrer\n",
      "['Gener', 'Febrer', 'Marc']\n",
      "Setembre Octubre\n"
     ]
    }
   ],
   "source": [
    "# CORRECTION:\n",
    "# get the second month of the first term:\n",
    "# first term, index 0, second month, index 1\n",
    "print(grup[0][1])\n",
    "\n",
    "\n",
    "# list of all months of the first term:\n",
    "print(grup[0])\n",
    "\n",
    "\n",
    "# We want to go to the months of: Setembre i Octubre\n",
    "a = grup[2][2] # this access to third term (index 2) => september term, in which setembre is the 3rd month (index 2)\n",
    "b = grup[3][0] # this acceds to fourth term (index 0) => october term, in which october is the 1st month (index 0)\n",
    "print(a, b)"
   ]
  },
  {
   "cell_type": "markdown",
   "id": "0954fb63",
   "metadata": {},
   "source": [
    "## Exercici 3: Crea una llista amb nombres desordenats i respon a les següents preguntes:"
   ]
  },
  {
   "cell_type": "markdown",
   "id": "c447e578",
   "metadata": {},
   "source": [
    "The list of unsorted values will contain values random uniform values from the interval $[0,10]$.\n",
    "\n",
    "In this exercise I have chosen to pick the random.uniform sampling method instead of the random.randint since allows me to search and learn a way to transform a list of float value into integers."
   ]
  },
  {
   "cell_type": "code",
   "execution_count": 1,
   "id": "3d97052c",
   "metadata": {},
   "outputs": [
    {
     "data": {
      "text/plain": [
       "array([9, 4, 0, 0, 4, 4, 3, 0, 0, 4, 1, 9, 3, 1, 3, 3, 2, 4, 0, 8, 1, 2,\n",
       "       2, 1, 6, 1, 1, 7, 2, 9, 1, 5, 9, 9, 9, 2, 2, 6, 4, 1, 9, 0, 4, 7,\n",
       "       3, 4, 1, 9, 9, 7, 1, 8, 8, 4, 1, 3, 7, 7, 0, 2, 0, 9, 0, 3, 6, 4,\n",
       "       6, 7, 1, 6, 5, 5, 2, 9, 5, 5, 9, 1, 8, 2, 3, 6, 0, 4, 7, 1, 3, 1,\n",
       "       7, 6, 7, 8, 9, 4, 9, 5, 4, 6, 7, 2])"
      ]
     },
     "execution_count": 1,
     "metadata": {},
     "output_type": "execute_result"
    }
   ],
   "source": [
    "import numpy as np\n",
    "\n",
    "N = 100\n",
    "list1 = np.array(np.random.uniform(0,1,N)*10, dtype=np.int64) \n",
    "#int64 converts all the random uniform values to integers\n",
    "\n",
    "list1"
   ]
  },
  {
   "cell_type": "markdown",
   "id": "bc66c60d",
   "metadata": {},
   "source": [
    "#### Quants números hi ha?"
   ]
  },
  {
   "cell_type": "code",
   "execution_count": 2,
   "id": "c0424ae6",
   "metadata": {},
   "outputs": [
    {
     "name": "stdout",
     "output_type": "stream",
     "text": [
      "Com que tots els valors de la llista son numerics, podem utilitzar la funcio \"len()\".\n",
      "En aquesta llista tenim 100 numeros\n"
     ]
    }
   ],
   "source": [
    "print('Com que tots els valors de la llista son numerics, podem utilitzar la funcio \"len()\".')\n",
    "print('En aquesta llista tenim', len(list1), 'numeros')\n"
   ]
  },
  {
   "cell_type": "markdown",
   "id": "ee299915",
   "metadata": {},
   "source": [
    "#### Quantes vegades apareix el número 3"
   ]
  },
  {
   "cell_type": "code",
   "execution_count": 3,
   "id": "4055304f",
   "metadata": {},
   "outputs": [
    {
     "name": "stdout",
     "output_type": "stream",
     "text": [
      "El numero 3 apareix 9 vegades a la llista\n"
     ]
    }
   ],
   "source": [
    "print('El numero 3 apareix', np.count_nonzero(list1 == 3), 'vegades a la llista')"
   ]
  },
  {
   "cell_type": "markdown",
   "id": "41c3ae10",
   "metadata": {},
   "source": [
    "#### Quantes vegades apareixen els nombres 3 i 4?"
   ]
  },
  {
   "cell_type": "code",
   "execution_count": 4,
   "id": "07d8a180",
   "metadata": {},
   "outputs": [
    {
     "name": "stdout",
     "output_type": "stream",
     "text": [
      "Els nombres 3 i 4 apareixen  22 vegades a la llista\n",
      "Una altra forma mes directa de fer-ho es utilitzar np.count_nonzero. I veiem que dona el mateix valor: 22\n"
     ]
    }
   ],
   "source": [
    "count = 0\n",
    "for x in list1:\n",
    "    if (x == 4 or x == 3):\n",
    "        count += 1\n",
    "        \n",
    "print('Els nombres 3 i 4 apareixen ', count, 'vegades a la llista')\n",
    "\n",
    "print('Una altra forma mes directa de fer-ho es utilitzar np.count_nonzero. ' \n",
    "      'I veiem que dona el mateix valor:', np.count_nonzero((list1==3) | (list1 ==4)))\n"
   ]
  },
  {
   "cell_type": "markdown",
   "id": "60669032",
   "metadata": {},
   "source": [
    "#### Quin és el número més gran?"
   ]
  },
  {
   "cell_type": "code",
   "execution_count": 5,
   "id": "ed7c981f",
   "metadata": {},
   "outputs": [
    {
     "name": "stdout",
     "output_type": "stream",
     "text": [
      "El numero mes gran es el 9\n"
     ]
    }
   ],
   "source": [
    "print('El numero mes gran es el', max(list1))"
   ]
  },
  {
   "cell_type": "markdown",
   "id": "bd9617aa",
   "metadata": {},
   "source": [
    "#### Quins són els 3 números més petits?"
   ]
  },
  {
   "cell_type": "code",
   "execution_count": 6,
   "id": "5228b5e4",
   "metadata": {},
   "outputs": [
    {
     "name": "stdout",
     "output_type": "stream",
     "text": [
      "Els tres numeros mes petits son els:  [0, 1, 2]\n"
     ]
    }
   ],
   "source": [
    "uniqList = list(set(list1))\n",
    "# since the list gets already sorted in ascendent order we have no need to sort it.\n",
    "# the three minimum values are the ones in three first positions.\n",
    "print('Els tres numeros mes petits son els: ', uniqList[0:3])"
   ]
  },
  {
   "cell_type": "markdown",
   "id": "5f5a9cde",
   "metadata": {},
   "source": [
    "#### Quin és el rang d’aquesta llista?"
   ]
  },
  {
   "cell_type": "code",
   "execution_count": 7,
   "id": "0662960b",
   "metadata": {
    "scrolled": true
   },
   "outputs": [
    {
     "name": "stdout",
     "output_type": "stream",
     "text": [
      "Els rangs dels valors d'aquesta llista es [1, 1, 1, 1, 1, 1, 1, 1, 1, 1, 11, 11, 11, 11, 11, 11, 11, 11, 11, 11, 11, 11, 11, 11, 11, 26, 26, 26, 26, 26, 26, 26, 26, 26, 26, 36, 36, 36, 36, 36, 36, 36, 36, 36, 45, 45, 45, 45, 45, 45, 45, 45, 45, 45, 45, 45, 45, 58, 58, 58, 58, 58, 58, 64, 64, 64, 64, 64, 64, 64, 64, 72, 72, 72, 72, 72, 72, 72, 72, 72, 72, 82, 82, 82, 82, 82, 87, 87, 87, 87, 87, 87, 87, 87, 87, 87, 87, 87, 87, 87]\n"
     ]
    }
   ],
   "source": [
    "# I missunderstood range of a list with ranking of the values of a list.\n",
    "# wrong exercise:\n",
    "# we need to sort the list first in descending order.\n",
    "lists = sorted(list1)\n",
    "# now we get the ranks\n",
    "rank = []\n",
    "for x in lists:\n",
    "    rank.append(lists.index(x)+1)\n",
    "\n",
    "print(\"Els rangs dels valors d'aquesta llista es\", rank)"
   ]
  },
  {
   "cell_type": "code",
   "execution_count": 9,
   "id": "cd88eeab",
   "metadata": {},
   "outputs": [
    {
     "name": "stdout",
     "output_type": "stream",
     "text": [
      "Els rang d'aquesta llista es 9\n"
     ]
    }
   ],
   "source": [
    "#CORRECTION:\n",
    "# El rang es defineix com el valor = max_val - min_val:\n",
    "rang = list1.max() - list1.min()\n",
    "print(\"Els rang d'aquesta llista es\", rang)"
   ]
  },
  {
   "cell_type": "markdown",
   "id": "edfd85e0",
   "metadata": {},
   "source": [
    "### Exercise 4: Crea un diccionari de la següent forma i respon a les preguntes:\n",
    "\n",
    "```\n",
    "compra = {\"Pomes\":{\"Qty\":5, \"€\":0.42}, \"Peres\":{\"Qty\":3, \"€\":0.66}}\n",
    "    ```"
   ]
  },
  {
   "cell_type": "code",
   "execution_count": 73,
   "id": "45d559cd",
   "metadata": {},
   "outputs": [
    {
     "name": "stdout",
     "output_type": "stream",
     "text": [
      "El diccionari: {'Pomes': {'Qty': 5, '€': 0.42}, 'Peres': {'Qty': 3, '€': 0.66}}\n"
     ]
    }
   ],
   "source": [
    "#diccionary\n",
    "compra = {'Pomes':{'Qty':5, '€':0.42}, 'Peres':{'Qty':3, '€':0.66}}\n",
    "\n",
    "print('El diccionari:', compra)"
   ]
  },
  {
   "cell_type": "markdown",
   "id": "4f4a9466",
   "metadata": {},
   "source": [
    "#### Afegeix alguna fruita més"
   ]
  },
  {
   "cell_type": "code",
   "execution_count": 74,
   "id": "43ed5fb4",
   "metadata": {},
   "outputs": [
    {
     "name": "stdout",
     "output_type": "stream",
     "text": [
      "Diccionari updated: {'Pomes': {'Qty': 5, '€': 0.42}, 'Peres': {'Qty': 3, '€': 0.66}, 'Tronjes': {'Qty': 6, '€': 0.35}}\n"
     ]
    }
   ],
   "source": [
    "compra.update({'Tronjes':{'Qty':6,'€':0.35}})\n",
    "print('Diccionari updated:', compra)"
   ]
  },
  {
   "cell_type": "markdown",
   "id": "14710956",
   "metadata": {},
   "source": [
    "#### Quant han costat les peres en total?"
   ]
  },
  {
   "cell_type": "code",
   "execution_count": 169,
   "id": "896d6311",
   "metadata": {},
   "outputs": [
    {
     "name": "stdout",
     "output_type": "stream",
     "text": [
      "Les peres en han costat un total de  1.98 euros\n"
     ]
    }
   ],
   "source": [
    "preu = compra['Peres']['€']\n",
    "quant = compra['Peres']['Qty']\n",
    "\n",
    "total= preu*quant\n",
    "print('Les peres en han costat un total de ', total, 'euros')"
   ]
  },
  {
   "cell_type": "markdown",
   "id": "27366eb0",
   "metadata": {},
   "source": [
    "#### Quantes fruites hem comprat en total?"
   ]
  },
  {
   "cell_type": "code",
   "execution_count": 168,
   "id": "8a5927da",
   "metadata": {},
   "outputs": [
    {
     "name": "stdout",
     "output_type": "stream",
     "text": [
      "Hem comprat un total de: 15 fruites\n"
     ]
    }
   ],
   "source": [
    "quant1 = compra['Pomes']['Qty']\n",
    "quant1 = compra['Peres']['Qty']\n",
    "quant1 = compra['Tronjes']['Qty']\n",
    "\n",
    "total = quant1 + quant2 + quant3\n",
    "print('Hem comprat un total de:', total, 'fruites')"
   ]
  },
  {
   "cell_type": "markdown",
   "id": "c7dddc04",
   "metadata": {},
   "source": [
    "#### Quina és la fruita més cara?"
   ]
  },
  {
   "cell_type": "code",
   "execution_count": 174,
   "id": "70b76f75",
   "metadata": {},
   "outputs": [
    {
     "name": "stdout",
     "output_type": "stream",
     "text": [
      "La fruita mes cara te un preu de 0.66 € la unitat i es la Pera\n"
     ]
    }
   ],
   "source": [
    "preu1 = compra['Pomes']['€']\n",
    "preu2 = compra['Peres']['€']\n",
    "preu3 = compra['Tronjes']['€']\n",
    "\n",
    "fruitlis = ['Poma', 'Pera', 'Tronja']\n",
    "preulis = [preu1, preu2, preu3]\n",
    "\n",
    "maxvalue = max(preulis)\n",
    "maxind = preulis.index(maxvalue)\n",
    "\n",
    "print('La fruita mes cara te un preu de', max(preulis), '€ la unitat i es la', fruitlis[maxind])"
   ]
  }
 ],
 "metadata": {
  "kernelspec": {
   "display_name": "Python 3 (ipykernel)",
   "language": "python",
   "name": "python3"
  },
  "language_info": {
   "codemirror_mode": {
    "name": "ipython",
    "version": 3
   },
   "file_extension": ".py",
   "mimetype": "text/x-python",
   "name": "python",
   "nbconvert_exporter": "python",
   "pygments_lexer": "ipython3",
   "version": "3.9.7"
  },
  "latex_envs": {
   "LaTeX_envs_menu_present": true,
   "autoclose": false,
   "autocomplete": true,
   "bibliofile": "biblio.bib",
   "cite_by": "apalike",
   "current_citInitial": 1,
   "eqLabelWithNumbers": true,
   "eqNumInitial": 1,
   "hotkeys": {
    "equation": "Ctrl-E",
    "itemize": "Ctrl-I"
   },
   "labels_anchors": false,
   "latex_user_defs": false,
   "report_style_numbering": false,
   "user_envs_cfg": false
  }
 },
 "nbformat": 4,
 "nbformat_minor": 5
}
