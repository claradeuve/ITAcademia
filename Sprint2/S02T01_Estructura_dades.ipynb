{
 "cells": [
  {
   "cell_type": "markdown",
   "id": "08d66be3",
   "metadata": {},
   "source": [
    "# Nivell 1"
   ]
  },
  {
   "cell_type": "markdown",
   "id": "a8e02412",
   "metadata": {},
   "source": [
    "## Exercici 1: Crea una llista que agrupi els mesos de l’any en trimestres (1T: Gener, Febrer i Març, 2T: Abril, Maig, Juny...), és a dir, una llista amb 4 llistes dins. "
   ]
  },
  {
   "cell_type": "code",
   "execution_count": 21,
   "id": "e21303e7",
   "metadata": {},
   "outputs": [
    {
     "name": "stdout",
     "output_type": "stream",
     "text": [
      "{'1T': ['Gener', 'Febrer', 'Marc'], '2T': ['Abril', 'Maig', 'Juny'], '3T': ['Juliol', 'Agost', 'Setembre'], '4T': ['Octubre', 'November', 'Decembre']}\n"
     ]
    }
   ],
   "source": [
    "import numpy as np\n",
    "\n",
    "#make the lists of months and terms:\n",
    "months = ['Gener', 'Febrer', 'Marc', 'Abril', 'Maig', 'Juny', 'Juliol', 'Agost', 'Setembre', 'Octubre', \n",
    "          'November', 'Decembre']\n",
    "terms = ['1T', '2T', '3T', '4T']\n",
    "\n",
    "#split the month list in 4 chuncks (one for each term)\n",
    "grup = list()\n",
    "numx = 3 # number of months in each chunck\n",
    "for x in range(0,len(months),numx):\n",
    "    grup.append(months[x:x+numx])\n",
    "\n",
    "#now rename the each chunck which are 0 to 3 by using terms list.\n",
    "llista = {terms[i]:grup[i] for i in range(len(terms))}\n",
    "        \n",
    "print(llista)"
   ]
  },
  {
   "cell_type": "markdown",
   "id": "1973cdb0",
   "metadata": {},
   "source": [
    "## Exercici 2: Crea un codi que et permeti accedir a:\n",
    "* El segon mes del primer trimestre\n",
    "* Els mesos del primer trimestre\n",
    "* Setembre i octubre"
   ]
  },
  {
   "cell_type": "code",
   "execution_count": 165,
   "id": "13d36fd2",
   "metadata": {},
   "outputs": [
    {
     "name": "stdout",
     "output_type": "stream",
     "text": [
      "Febrer\n",
      "['Gener', 'Febrer', 'Marc']\n",
      "Setembre Octubre\n"
     ]
    }
   ],
   "source": [
    "import numpy as np\n",
    "\n",
    "# get the second month of the first term:\n",
    "# first we acced to the first term:\n",
    "a = llista['1T']\n",
    "# now we pick the second month, that in python translates as the value with index 1.\n",
    "print(a[1])\n",
    "\n",
    "\n",
    "# list of all months of the first term:\n",
    "print(llista['1T'])\n",
    "\n",
    "\n",
    "# We want to go to the months of: Setembre i Octubre\n",
    "a = llista['3T'] # this access to third term => september term, in which setembre is the 3rd month (index 2)\n",
    "b = llista['4T'] # this acceds to fourth term => october term, in which october is the 1st month (index 0)\n",
    "print(a[2], b[0])"
   ]
  },
  {
   "cell_type": "markdown",
   "id": "0954fb63",
   "metadata": {},
   "source": [
    "## Exercici 3: Crea una llista amb nombres desordenats i respon a les següents preguntes:"
   ]
  },
  {
   "cell_type": "markdown",
   "id": "c447e578",
   "metadata": {},
   "source": [
    "The list of unsorted values will contain values random uniform values from the interval $[0,10]$.\n",
    "\n",
    "In this exercise I have chosen to pick the random.uniform sampling method instead of the random.randint since allows me to search and learn a way to transform a list of float value into integers."
   ]
  },
  {
   "cell_type": "code",
   "execution_count": 6,
   "id": "3d97052c",
   "metadata": {},
   "outputs": [
    {
     "data": {
      "text/plain": [
       "array([1, 0, 1, 3, 1, 2, 5, 7, 5, 4, 3, 9, 7, 6, 3, 2, 6, 9, 3, 4, 8, 6,\n",
       "       9, 1, 2, 7, 3, 7, 3, 2, 6, 8, 4, 9, 2, 5, 7, 6, 0, 7, 6, 9, 2, 4,\n",
       "       9, 3, 2, 5, 8, 4, 2, 5, 5, 2, 2, 9, 8, 8, 7, 1, 6, 9, 2, 1, 5, 1,\n",
       "       0, 5, 6, 0, 1, 6, 3, 3, 2, 5, 2, 7, 9, 5, 1, 6, 0, 7, 6, 6, 4, 6,\n",
       "       2, 2, 3, 2, 7, 5, 5, 2, 3, 3, 9, 4])"
      ]
     },
     "execution_count": 6,
     "metadata": {},
     "output_type": "execute_result"
    }
   ],
   "source": [
    "import numpy as np\n",
    "\n",
    "N = 100\n",
    "list1 = np.array(np.random.uniform(0,1,N)*10, dtype=np.int64) \n",
    "#int64 converts all the random uniform values to integers\n",
    "\n",
    "list1"
   ]
  },
  {
   "cell_type": "markdown",
   "id": "bc66c60d",
   "metadata": {},
   "source": [
    "#### Quants números hi ha?"
   ]
  },
  {
   "cell_type": "code",
   "execution_count": 10,
   "id": "c0424ae6",
   "metadata": {},
   "outputs": [
    {
     "name": "stdout",
     "output_type": "stream",
     "text": [
      "Com que tots els valors de la llista son numerics, podem utilitzar la funcio \"len()\".\n",
      "En aquesta llista tenim 100 numeros\n"
     ]
    }
   ],
   "source": [
    "print('Com que tots els valors de la llista son numerics, podem utilitzar la funcio \"len()\".')\n",
    "print('En aquesta llista tenim', len(list1), 'numeros')\n"
   ]
  },
  {
   "cell_type": "markdown",
   "id": "ee299915",
   "metadata": {},
   "source": [
    "#### Quantes vegades apareix el número 3"
   ]
  },
  {
   "cell_type": "code",
   "execution_count": 15,
   "id": "4055304f",
   "metadata": {},
   "outputs": [
    {
     "name": "stdout",
     "output_type": "stream",
     "text": [
      "El numero 3 apareix 12 vegades a la llista\n"
     ]
    }
   ],
   "source": [
    "print('El numero 3 apareix', np.count_nonzero(list1 == 3), 'vegades a la llista')"
   ]
  },
  {
   "cell_type": "markdown",
   "id": "41c3ae10",
   "metadata": {},
   "source": [
    "#### Quantes vegades apareixen els nombres 3 i 4?"
   ]
  },
  {
   "cell_type": "code",
   "execution_count": 20,
   "id": "07d8a180",
   "metadata": {},
   "outputs": [
    {
     "name": "stdout",
     "output_type": "stream",
     "text": [
      "Els nombres 3 i 4 apareixen  19 vegades a la llista\n",
      "Una altra forma mes directa de fer-ho es utilitzar np.count_nonzero. I veiem que dona el mateix valor: 19\n"
     ]
    }
   ],
   "source": [
    "count = 0\n",
    "for x in list1:\n",
    "    if (x == 4 or x == 3):\n",
    "        count += 1\n",
    "        \n",
    "print('Els nombres 3 i 4 apareixen ', count, 'vegades a la llista')\n",
    "\n",
    "print('Una altra forma mes directa de fer-ho es utilitzar np.count_nonzero. ' \n",
    "      'I veiem que dona el mateix valor:', np.count_nonzero((list1==3) | (list1 ==4)))\n"
   ]
  },
  {
   "cell_type": "markdown",
   "id": "60669032",
   "metadata": {},
   "source": [
    "#### Quin és el número més gran?"
   ]
  },
  {
   "cell_type": "code",
   "execution_count": 12,
   "id": "ed7c981f",
   "metadata": {},
   "outputs": [
    {
     "name": "stdout",
     "output_type": "stream",
     "text": [
      "El numero mes gran es el 9\n"
     ]
    }
   ],
   "source": [
    "print('El numero mes gran es el', max(list1))"
   ]
  },
  {
   "cell_type": "markdown",
   "id": "bd9617aa",
   "metadata": {},
   "source": [
    "#### Quins són els 3 números més petits?"
   ]
  },
  {
   "cell_type": "code",
   "execution_count": 13,
   "id": "5228b5e4",
   "metadata": {},
   "outputs": [
    {
     "name": "stdout",
     "output_type": "stream",
     "text": [
      "Els tres numeros mes petits son els:  [0, 1, 2]\n"
     ]
    }
   ],
   "source": [
    "uniqList = list(set(list1))\n",
    "# since the list gets already sorted in ascendent order we have no need to sort it.\n",
    "# the three minimum values are the ones in three first positions.\n",
    "print('Els tres numeros mes petits son els: ', uniqList[0:3])"
   ]
  },
  {
   "cell_type": "markdown",
   "id": "5f5a9cde",
   "metadata": {},
   "source": [
    "#### Quin és el rang d’aquesta llista?"
   ]
  },
  {
   "cell_type": "code",
   "execution_count": 32,
   "id": "0662960b",
   "metadata": {
    "scrolled": true
   },
   "outputs": [
    {
     "name": "stdout",
     "output_type": "stream",
     "text": [
      "El rang d'aquesta llista es [1, 1, 1, 1, 1, 6, 6, 6, 6, 6, 6, 6, 6, 6, 15, 15, 15, 15, 15, 15, 15, 15, 15, 15, 15, 15, 15, 15, 15, 15, 15, 32, 32, 32, 32, 32, 32, 32, 32, 32, 32, 32, 32, 44, 44, 44, 44, 44, 44, 44, 51, 51, 51, 51, 51, 51, 51, 51, 51, 51, 51, 51, 63, 63, 63, 63, 63, 63, 63, 63, 63, 63, 63, 63, 63, 76, 76, 76, 76, 76, 76, 76, 76, 76, 76, 86, 86, 86, 86, 86, 91, 91, 91, 91, 91, 91, 91, 91, 91, 91]\n"
     ]
    }
   ],
   "source": [
    "# we need to sort the list first in descending order.\n",
    "lists = sorted(list1)\n",
    "# now we get the ranks\n",
    "rank = []\n",
    "for x in lists:\n",
    "    rank.append(lists.index(x)+1)\n",
    "\n",
    "print(\"Els rangs dels valors d'aquesta llista es\", rank)"
   ]
  },
  {
   "cell_type": "markdown",
   "id": "edfd85e0",
   "metadata": {},
   "source": [
    "### Exercise 4: Crea un diccionari de la següent forma i respon a les preguntes:\n",
    "\n",
    "```\n",
    "compra = {\"Pomes\":{\"Qty\":5, \"€\":0.42}, \"Peres\":{\"Qty\":3, \"€\":0.66}}\n",
    "    ```"
   ]
  },
  {
   "cell_type": "code",
   "execution_count": 73,
   "id": "45d559cd",
   "metadata": {},
   "outputs": [
    {
     "name": "stdout",
     "output_type": "stream",
     "text": [
      "El diccionari: {'Pomes': {'Qty': 5, '€': 0.42}, 'Peres': {'Qty': 3, '€': 0.66}}\n"
     ]
    }
   ],
   "source": [
    "#diccionary\n",
    "compra = {'Pomes':{'Qty':5, '€':0.42}, 'Peres':{'Qty':3, '€':0.66}}\n",
    "\n",
    "print('El diccionari:', compra)"
   ]
  },
  {
   "cell_type": "markdown",
   "id": "4f4a9466",
   "metadata": {},
   "source": [
    "#### Afegeix alguna fruita més"
   ]
  },
  {
   "cell_type": "code",
   "execution_count": 74,
   "id": "43ed5fb4",
   "metadata": {},
   "outputs": [
    {
     "name": "stdout",
     "output_type": "stream",
     "text": [
      "Diccionari updated: {'Pomes': {'Qty': 5, '€': 0.42}, 'Peres': {'Qty': 3, '€': 0.66}, 'Tronjes': {'Qty': 6, '€': 0.35}}\n"
     ]
    }
   ],
   "source": [
    "compra.update({'Tronjes':{'Qty':6,'€':0.35}})\n",
    "print('Diccionari updated:', compra)"
   ]
  },
  {
   "cell_type": "markdown",
   "id": "14710956",
   "metadata": {},
   "source": [
    "#### Quant han costat les peres en total?"
   ]
  },
  {
   "cell_type": "code",
   "execution_count": 169,
   "id": "896d6311",
   "metadata": {},
   "outputs": [
    {
     "name": "stdout",
     "output_type": "stream",
     "text": [
      "Les peres en han costat un total de  1.98 euros\n"
     ]
    }
   ],
   "source": [
    "preu = compra['Peres']['€']\n",
    "quant = compra['Peres']['Qty']\n",
    "\n",
    "total= preu*quant\n",
    "print('Les peres en han costat un total de ', total, 'euros')"
   ]
  },
  {
   "cell_type": "markdown",
   "id": "27366eb0",
   "metadata": {},
   "source": [
    "#### Quantes fruites hem comprat en total?"
   ]
  },
  {
   "cell_type": "code",
   "execution_count": 168,
   "id": "8a5927da",
   "metadata": {},
   "outputs": [
    {
     "name": "stdout",
     "output_type": "stream",
     "text": [
      "Hem comprat un total de: 15 fruites\n"
     ]
    }
   ],
   "source": [
    "quant1 = compra['Pomes']['Qty']\n",
    "quant1 = compra['Peres']['Qty']\n",
    "quant1 = compra['Tronjes']['Qty']\n",
    "\n",
    "total = quant1 + quant2 + quant3\n",
    "print('Hem comprat un total de:', total, 'fruites')"
   ]
  },
  {
   "cell_type": "markdown",
   "id": "c7dddc04",
   "metadata": {},
   "source": [
    "#### Quina és la fruita més cara?"
   ]
  },
  {
   "cell_type": "code",
   "execution_count": 174,
   "id": "70b76f75",
   "metadata": {},
   "outputs": [
    {
     "name": "stdout",
     "output_type": "stream",
     "text": [
      "La fruita mes cara te un preu de 0.66 € la unitat i es la Pera\n"
     ]
    }
   ],
   "source": [
    "preu1 = compra['Pomes']['€']\n",
    "preu2 = compra['Peres']['€']\n",
    "preu3 = compra['Tronjes']['€']\n",
    "\n",
    "fruitlis = ['Poma', 'Pera', 'Tronja']\n",
    "preulis = [preu1, preu2, preu3]\n",
    "\n",
    "maxvalue = max(preulis)\n",
    "maxind = preulis.index(maxvalue)\n",
    "\n",
    "print('La fruita mes cara te un preu de', max(preulis), '€ la unitat i es la', fruitlis[maxind])"
   ]
  }
 ],
 "metadata": {
  "kernelspec": {
   "display_name": "Python 3 (ipykernel)",
   "language": "python",
   "name": "python3"
  },
  "language_info": {
   "codemirror_mode": {
    "name": "ipython",
    "version": 3
   },
   "file_extension": ".py",
   "mimetype": "text/x-python",
   "name": "python",
   "nbconvert_exporter": "python",
   "pygments_lexer": "ipython3",
   "version": "3.9.7"
  },
  "latex_envs": {
   "LaTeX_envs_menu_present": true,
   "autoclose": false,
   "autocomplete": true,
   "bibliofile": "biblio.bib",
   "cite_by": "apalike",
   "current_citInitial": 1,
   "eqLabelWithNumbers": true,
   "eqNumInitial": 1,
   "hotkeys": {
    "equation": "Ctrl-E",
    "itemize": "Ctrl-I"
   },
   "labels_anchors": false,
   "latex_user_defs": false,
   "report_style_numbering": false,
   "user_envs_cfg": false
  }
 },
 "nbformat": 4,
 "nbformat_minor": 5
}
