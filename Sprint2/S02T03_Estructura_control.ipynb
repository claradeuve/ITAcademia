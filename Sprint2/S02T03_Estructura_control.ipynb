{
 "cells": [
  {
   "cell_type": "markdown",
   "id": "84be13b6",
   "metadata": {},
   "source": [
    "# Nivell 1"
   ]
  },
  {
   "cell_type": "markdown",
   "id": "33020b48",
   "metadata": {},
   "source": [
    "Encara que nomes ho demani al exercici 2, tot els exercicis estan fets perque l'usuari entri les dades requerides, fent-los aixi mes \"dinamics\"."
   ]
  },
  {
   "cell_type": "markdown",
   "id": "65e429df",
   "metadata": {},
   "source": [
    "## Exercici 1: L'exercici consisteix a crear un programa que et classifiqui una variable numèrica en funció de l’escala Suspès/Aprovat/Notable/Excel·lent. "
   ]
  },
  {
   "cell_type": "code",
   "execution_count": 26,
   "id": "c78886dd",
   "metadata": {},
   "outputs": [
    {
     "name": "stdout",
     "output_type": "stream",
     "text": [
      "Escriu la nota: 9\n",
      "L'alumne te un Excel.lent\n"
     ]
    }
   ],
   "source": [
    "# use function for determine the grade scaled:\n",
    "def grade_scale(grade):\n",
    "    if ( grade >= 9.0 ):\n",
    "        return 'Excel.lent' \n",
    "        #in here if I was using typical keyboard I would have put \" \" instead of '' because the l-dot.\n",
    "    if (grade >= 7.5):\n",
    "        return 'Notable'\n",
    "    elif (grade >= 5.0 ):\n",
    "        return 'Aprovat'\n",
    "    else:\n",
    "        return 'Suspens'\n",
    "#main\n",
    "grade = float(input('Escriu la nota: '))\n",
    "print(\"L'alumne te un\", grade_scale(grade))"
   ]
  },
  {
   "cell_type": "markdown",
   "id": "d265a29a",
   "metadata": {},
   "source": [
    "## Exercici 2: Utilitzant el següent tutorial Programiz: Python Input, Output and Import crea un programa que et pregunti dos números. T’ha de mostrar un missatge dient si el primer és més gran, el segon és més gran o són iguals."
   ]
  },
  {
   "cell_type": "code",
   "execution_count": 27,
   "id": "56b33b98",
   "metadata": {},
   "outputs": [
    {
     "name": "stdout",
     "output_type": "stream",
     "text": [
      "Entra el primer numero: 3\n",
      "Entra el segon numero: 4\n",
      "El primer numero es mes\u001b[1m petit\u001b[0m que el segon numero.\n"
     ]
    }
   ],
   "source": [
    "# FUNCTION that determines if the first: greater, smaller or equal to the second?\n",
    "def score(num1, num2):\n",
    "    if (num1 > num2) :\n",
    "        return 'mes' '\\033[1m' + ' gran' + '\\033[0m'\n",
    "    elif (num1 < num2) :\n",
    "        return 'mes' + '\\033[1m' + ' petit' + '\\033[0m'\n",
    "    else:\n",
    "        return '\\033[1m' + 'igual' + '\\033[0m'\n",
    "\n",
    "# input two numbers\n",
    "num1 = input('Entra el primer numero: ')\n",
    "num2 = input('Entra el segon numero: ')\n",
    "\n",
    "print('El primer numero es {} que el segon numero.'.format(score(num1, num2)))"
   ]
  },
  {
   "cell_type": "markdown",
   "id": "2289186d",
   "metadata": {},
   "source": [
    "## Exercici 3: Crea un programa que et pregunti el teu nom, i et demani un número. Si el número és 0, hauria de mostrar un missatge d’error. En cas contrari, hauria de mostrar el nom repetit tants cops com indiqui el número. Per exemple, “Joan Joan Joan”."
   ]
  },
  {
   "cell_type": "code",
   "execution_count": 43,
   "id": "ce879c55",
   "metadata": {},
   "outputs": [
    {
     "name": "stdout",
     "output_type": "stream",
     "text": [
      "Quin es el teu nom? Joan\n",
      "Escriu un numero: 3\n"
     ]
    },
    {
     "data": {
      "text/plain": [
       "'Joan Joan Joan'"
      ]
     },
     "execution_count": 43,
     "metadata": {},
     "output_type": "execute_result"
    }
   ],
   "source": [
    "# program that asks name and number and multiplies the name times number\n",
    "def times(name, num):\n",
    "    if num > 0:\n",
    "        return ' '.join([name]*num)\n",
    "    else:\n",
    "        return 'Error. Write a number greater than 0'\n",
    "\n",
    "#input name and number\n",
    "name = str(input('Quin es el teu nom? '))\n",
    "num = int(input('Escriu un numero: '))\n",
    "\n",
    "times(name,num)"
   ]
  },
  {
   "cell_type": "markdown",
   "id": "7df63796",
   "metadata": {},
   "source": [
    "## Exercici 4: Crea un programa que donada una llista qualsevol, et digui si es simètrica o no. Si ho és, que et digui quants elements té."
   ]
  },
  {
   "cell_type": "code",
   "execution_count": 30,
   "id": "2de9a18d",
   "metadata": {},
   "outputs": [
    {
     "name": "stdout",
     "output_type": "stream",
     "text": [
      "Escriu un llistat d'elements (separats per espais, sense parentsis ni claudators.) gat gos gat\n",
      "La llista es simetrica, i te 3 elements.\n"
     ]
    }
   ],
   "source": [
    "# given a list say if it is symmetrical (cap-i-cua) and how many elements it has (it works for words and numbers!)\n",
    "\n",
    "def symmetrical(list1):\n",
    "    n = len(list1)\n",
    "    nosym = 0\n",
    "    sym = 0\n",
    "    for i in range(len(list1)):\n",
    "        if list1[i] != list1[n-(i+1)] :\n",
    "            nosym += 1\n",
    "        else:\n",
    "            sym += 1\n",
    "        \n",
    "    if sym == n:\n",
    "        print('La llista es simetrica, i te', len(list1), 'elements.')\n",
    "    else:\n",
    "        print('La llista no es simetrica')\n",
    "        \n",
    "# input a list\n",
    "list1 = input(\"Escriu un llistat d'elements (separats per espais, sense parentsis ni claudators.) \")\n",
    "list1 = list(list1.split())\n",
    "symmetrical(list1)"
   ]
  },
  {
   "cell_type": "markdown",
   "id": "e1c836ad",
   "metadata": {},
   "source": [
    "## Exercici 5: Crea un programa que donada una llista, et digui quants números coincideixen amb la seva posició. Per exemple [3,4,2,0,2,3,6] el 2 i el 6 coincideixen."
   ]
  },
  {
   "cell_type": "code",
   "execution_count": 51,
   "id": "f9f11dcf",
   "metadata": {},
   "outputs": [
    {
     "name": "stdout",
     "output_type": "stream",
     "text": [
      "Introdueix una llista de valors (separats per espais, no parentesis ni claudators): 0 1 2\n",
      "Tenim 3 valors que coincideixen amb les posicions.\n",
      "Els valors que coincideixen amb les seves posicions son els: [0, 1, 2] .\n"
     ]
    }
   ],
   "source": [
    "# program that given a list says if value concides with index\n",
    "\n",
    "def coincident(list1):\n",
    "    num = []\n",
    "    count = 0\n",
    "    for indx in range(len(list1)):\n",
    "        if (list1[indx] == indx):\n",
    "            num.append(list1[indx])\n",
    "            count += 1\n",
    "    return num, count\n",
    "\n",
    "#\n",
    "#get the list:\n",
    "list1 = input('Introdueix una llista de valors (separats per espais, no parentesis ni claudators): ')\n",
    "list1 = list(list1.split())\n",
    "\n",
    "#now we convert the values in the list to integers:\n",
    "for i in range(len(list1)):\n",
    "    list1[i] = int(list1[i])\n",
    "\n",
    "print('Tenim', count, 'valors que coincideixen amb les posicions.')\n",
    "print('Els valors que coincideixen amb les seves posicions son els:', num, '.')\n"
   ]
  }
 ],
 "metadata": {
  "kernelspec": {
   "display_name": "Python 3 (ipykernel)",
   "language": "python",
   "name": "python3"
  },
  "language_info": {
   "codemirror_mode": {
    "name": "ipython",
    "version": 3
   },
   "file_extension": ".py",
   "mimetype": "text/x-python",
   "name": "python",
   "nbconvert_exporter": "python",
   "pygments_lexer": "ipython3",
   "version": "3.9.7"
  },
  "latex_envs": {
   "LaTeX_envs_menu_present": true,
   "autoclose": false,
   "autocomplete": true,
   "bibliofile": "biblio.bib",
   "cite_by": "apalike",
   "current_citInitial": 1,
   "eqLabelWithNumbers": true,
   "eqNumInitial": 1,
   "hotkeys": {
    "equation": "Ctrl-E",
    "itemize": "Ctrl-I"
   },
   "labels_anchors": false,
   "latex_user_defs": false,
   "report_style_numbering": false,
   "user_envs_cfg": false
  }
 },
 "nbformat": 4,
 "nbformat_minor": 5
}
