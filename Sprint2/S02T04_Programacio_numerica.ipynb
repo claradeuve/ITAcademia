{
 "cells": [
  {
   "cell_type": "markdown",
   "id": "43dfdedd",
   "metadata": {},
   "source": [
    "# Nivell 1"
   ]
  },
  {
   "cell_type": "markdown",
   "id": "b95eee7f",
   "metadata": {},
   "source": [
    "## Exercici 1: Crea una funció que donat un Array d’una dimensió, et faci un resum estadístic bàsic de les dades. Si detecta que l’array té més d’una dimensió, ha de mostrar un missatge d’error."
   ]
  },
  {
   "cell_type": "markdown",
   "id": "72e179f8",
   "metadata": {},
   "source": [
    "Tenim quatre grups d'estadistica al Numpy: [1]\n",
    "* Order statistics\n",
    "* Averages and variances\n",
    "* Correlating\n",
    "* Histograms\n",
    "\n",
    "Les Order i Correlating necessiten arrays de mes de una dimensio, per tant nomes utilitzarem per aquest problema les funcions en la carpeta de Averages and Variances a part de l'histograma simple (histogram(x,[bins,range,...])\n",
    "\n",
    "En Averages i variances tambe trobem les funcions anomenades \"nanmean\", \"nanmedian\", \"nanstd\", i \"nanvar\", les quals tenen la caracteristica d'operar, com les anteriors, pero sense tenir els NaNs, es a dir, quan ens falten dades a les llistes ens donaran el resultat sobre els valors no nuls de llista en comptes de obtenir un error.\n",
    "\n",
    "referencies:\n",
    "[1] https://numpy.org/doc/stable/reference/routines.statistics.html"
   ]
  },
  {
   "cell_type": "code",
   "execution_count": 1,
   "id": "121fa1d0",
   "metadata": {},
   "outputs": [
    {
     "name": "stdout",
     "output_type": "stream",
     "text": [
      "Mean:  49.321\n",
      "Average:  49.321\n",
      "Median:  49.0\n",
      "std:  29.47897486345141\n",
      "variance:  869.009959\n"
     ]
    },
    {
     "data": {
      "image/png": "[encoded data removed]",
      "text/plain": [
       "<Figure size 432x288 with 1 Axes>"
      ]
     },
     "metadata": {
      "needs_background": "light"
     },
     "output_type": "display_data"
    }
   ],
   "source": [
    "import numpy as np\n",
    "import matplotlib.pyplot as plt\n",
    "\n",
    "def stats(A):\n",
    "    if A.ndim != 1:\n",
    "        return 'Only 1D Arrays!'\n",
    "    else:\n",
    "        #Taking the ones on the documentation: mean, median, std, and, var\n",
    "        meanA = np.mean(A)\n",
    "        print('Mean: ', meanA)\n",
    "        averageA = np.average(A)\n",
    "        print('Average: ', averageA)\n",
    "        medianA = np.median(A)\n",
    "        print('Median: ', medianA)\n",
    "        stdA = np.std(A)\n",
    "        print('std: ', stdA)\n",
    "        varA = np.var(A)\n",
    "        print('variance: ',varA)\n",
    "\n",
    "        # plot histograma with frequences\n",
    "        plt.hist(A)\n",
    "        plt.title('Histograma of frequencies')\n",
    "        plt.show()\n",
    "        \n",
    "\n",
    "\n",
    "\n",
    "\n",
    "array = np.array(np.random.randint(0,100,1000)) # canviar per input\n",
    "stats(array)\n",
    "\n"
   ]
  },
  {
   "cell_type": "markdown",
   "id": "7cf923a3",
   "metadata": {},
   "source": [
    "## Exercici 2: Crea una funció que et generi un quadrat NxN de nombres aleatoris entre el 0 i el 100."
   ]
  },
  {
   "cell_type": "code",
   "execution_count": 51,
   "id": "bf2793a6",
   "metadata": {},
   "outputs": [
    {
     "name": "stdout",
     "output_type": "stream",
     "text": [
      "Dimensio del quadrat: N=1000\n",
      "[[ 6 55 42 ...  8 66 97]\n",
      " [15 62 18 ... 99 58 10]\n",
      " [95 28 76 ...  6 30 92]\n",
      " ...\n",
      " [75 51 30 ... 80  0 75]\n",
      " [85 41 78 ... 33 56 84]\n",
      " [77 65 87 ... 47 41 36]]\n",
      "Aquest quadrat te dimensions:  (1000, 1000)\n"
     ]
    }
   ],
   "source": [
    "#function that creates a square of NxN random values between 0 and 100\n",
    "def quad(n):\n",
    "    mat = np.random.randint(0,100,(n,n))\n",
    "    return mat\n",
    "\n",
    "\n",
    "n = input('Dimensio del quadrat: N=' )\n",
    "n = int(n)\n",
    "quad(n)"
   ]
  },
  {
   "cell_type": "markdown",
   "id": "474667b6",
   "metadata": {},
   "source": [
    "## Exercici 3: Crea una funció que donada una taula de dues dimensions, et calculi els totals per fila i els totals per columna. "
   ]
  },
  {
   "cell_type": "markdown",
   "id": "abf9dad9",
   "metadata": {},
   "source": [
    "En python hi ha diverses maneres de crear una taula de dues dimensions:\n",
    "\n",
    "* Fer un array de Nx2.\n",
    "\n",
    "* Utilitzar la lliberia pandas.\n",
    "\n",
    "* Utilitzar la lliberia tabulate (la qual no es troba instal.lada per defecte al Jupyter).\n",
    "\n",
    "Per aquest exercici nomes utilitzare les dues primeres."
   ]
  },
  {
   "cell_type": "code",
   "execution_count": 36,
   "id": "5e53c90b",
   "metadata": {},
   "outputs": [
    {
     "name": "stdout",
     "output_type": "stream",
     "text": [
      "Utilitzant la funcio sumarray(x,y)\n",
      "La suma de cadascuna de les files es:\n",
      "[  6  22  44  85 108]\n",
      "La suma de les columnes es:\n",
      "[ 20 245]\n",
      "Utilitzant la funcio sumpanda(x,y)\n",
      "0      6\n",
      "1     22\n",
      "2     44\n",
      "3     85\n",
      "4    108\n",
      "dtype: int64\n",
      "x     20\n",
      "y    245\n",
      "dtype: int64\n"
     ]
    }
   ],
   "source": [
    "import numpy as np\n",
    "import pandas as pd\n",
    "\n",
    "# function that sums the columns and the rows of a table\n",
    "def sumarray(x,y):\n",
    "    taula = np.column_stack((x,y))\n",
    "    print('La suma de cadascuna de les files es:')\n",
    "    print( np.sum(taula,axis=1))\n",
    "    print('La suma de les columnes es:')\n",
    "    return(np.sum(taula,axis= 0))\n",
    "    \n",
    "    \n",
    "# function that uses the pandas library to sum columns and rows.\n",
    "def sumpanda(x,y):\n",
    "    df = pd.DataFrame({'x' : x, 'y': y})\n",
    "    # totals per fila:\n",
    "    print(df.sum(axis=1))\n",
    "    # totals per columna\n",
    "    return (df.sum(axis=0))\n",
    "\n",
    "\n",
    "\n",
    "x = np.array((1,2,4,5,8))\n",
    "y = np.array((5,20,40,80,100))\n",
    "print('Utilitzant la funcio sumarray(x,y)')\n",
    "print(sumarray(x,y))\n",
    "\n",
    "print('Utilitzant la funcio sumpanda(x,y)')\n",
    "print(sumpanda(x,y))"
   ]
  },
  {
   "cell_type": "markdown",
   "id": "6b362cba",
   "metadata": {},
   "source": [
    "## Exercici 4: Implementa manualment una funció que calculi el coeficient de correlació. Informa’t-en sobre els seus usos i interpretació."
   ]
  },
  {
   "cell_type": "markdown",
   "id": "3489dcb9",
   "metadata": {},
   "source": [
    "**Coeficient de correlacio** o Pearson's correlation coefficient : Es defineix com el quocient de la *covariancia* de les variables $x$ i $y$ ($\\sigma_{xy}$) entre la *desviacio estandar* de $x$ ($\\sigma_{x}$) per la *desviacio estandar* de $y$ ($\\sigma_y$).\n",
    "$$r=\\frac{\\sigma_{xy}}{\\sigma_x\\sigma_y} = \\frac{1}{N}\\frac{\\sum_i (x_i - \\mu_{x})(y_i - \\mu_{y})}{\\sigma_x \\sigma_y} \\mbox{ a on } \\mu_{x}= \\mbox{ mitjana de x i }\\mu_{y}=\\mbox{mitjana de y.}$$\n",
    "\n",
    "Definim la *desviacio estandar* ($\\sigma$ o arrel quadrada de la varianca) la mesura de l'incertesa aleatoria associada a cadascuna de les mesures. Juntament amb la mitjana ens mostra el nivell de confianca en que es troben les nostres mesures. En analisis de dades l'interval de confianca mes comu es el de 95%, ens diu que la mesura presa te una probabilitat del 95% d'estar entre $\\mu - 2\\sigma$ i $\\mu + 2\\sigma$ (a on $\\mu$ es la mitjana).\n",
    "\n",
    "La *covariancia* es la desviacio estandar entre dos o mes variables i mostra el grau de correlacio entre les variables. Per variables independents, la covariancia sera zero. Quan la covariancia$> 0$ la variable $y$ tendeix a augmentar com augmenta la $x$. Per covariancies negatives($<0$) la $y$ decreix quan $x$ augmenta.\n",
    "\n",
    "**Interpretacio i usos** \n",
    "\n",
    "El coeficient de correlacio mesura el grau de correlacio entre dues variables. Es a dir, si tenim un conjunt de dades $\\{x,y \\}$ que es relacionen com: y=f(x), la correlacio vindra donda per un valor en l'interval $-1 \\leq r \\leq 1$.\n",
    "\n",
    "* Per $r= 1$ o $r=-1$. Les variables estan relaciones per una llei lineal exacte. \n",
    "\n",
    "* Per $r\\rightarrow 0$. Les variables x i y son independents entre elles. Cal tenir en compte que a mes a mes el coeficient de correlacio disminueix a mesura que incrementem el nombre de mesures (les variables aleatories $x$ i $y$ esdevenen independents entre si).\n",
    "\n",
    "* Per $-1< r < 1$. Les variables x i y estan parcialment correlacionades. Per $r>0$ les dades x i y es diu que es troben correlacionades, mentre que $r<0$ es diu que estan anti-correlacionades. Segueixen amb mes o menys grau una llei lineal.\n",
    "\n",
    "El cas de r igual a 1 o -1, per dades experimentals, es considera el cas ideal, sempre obtenim lleus fluctuacions entre $x$ i $y$ ja causades per el experimentador al pendre les dades o per la poca pressicio dels aparells. \n",
    "\n",
    "La equacio (1) es util per l'ajust de models, mentre que l'equacio (2) s'utilitza per el cas de mostreig.\n",
    "\n",
    "Per dues o mes vairables, el coefficient de correlacio es mapeja com una matriu de \"pairwise\" correlacions. \n",
    "$$r = \\left(\\begin{array}{c c} r_{xx} & r_{xy} \\\\ r_{yx} & r_{yy} \\end{array}\\right)$$\n",
    "\n",
    "A on $r_{xx}=r_{yy}=1$, ja que la variable esta correlacionda en si mateixa, i $r_{xy}=r_{yx}$ son iguals, ja que no importa l'ordre en que es fan les operacions, i dona simetria a la matriu.\n",
    "\n",
    "Per el cas de mes de dues variables aletories si volem extreure informacio a la matriu de correlacio necessitem utilitzar el que s'anomena un \"threshold\", el qual ens ajudara en determinar quin es el grau significancia de la correlacio. El threshold mes comu utilitzat es la desviacio estandar de la variable sobre la qual volem determinar la significancia. Aquest cas es molt util si, per exemple, en un dataframe tenim diverses \"features\" i volem saber com cada una d'aquestes features afecta a una feature en concret. Per exemple, en el cas de tenir un dataframe amb el qual volem determinar els preus de cases, amb la cross correlation despres d'aplicar-hi el threshold, podem determinar (per simplificar l'exemple) si afecta mes el preu de la casa el tenir piscina o el tenir quatre habitacions."
   ]
  },
  {
   "cell_type": "markdown",
   "id": "9ccb2d6f",
   "metadata": {},
   "source": [
    "Referencies: \n",
    "\n",
    "http://diposit.ub.edu/dspace/bitstream/2445/1741/1/apunts-octubre2007.pdf\n",
    "\n",
    "https://mathworld.wolfram.com/Covariance.html\n",
    "\n",
    "https://mathworld.wolfram.com/StandardDeviation.html\n",
    "\n",
    "https://mathworld.wolfram.com/CorrelationCoefficient.html"
   ]
  },
  {
   "cell_type": "markdown",
   "id": "496f70c8",
   "metadata": {},
   "source": [
    "En l'exercici he fet les dues versions del coefficient de correlacio:\n",
    "\n",
    "* La funcio corr_coef(x,y) correspont a la de la funcio (1).\n",
    "\n",
    "* La funcio corr_coef2(x,y) es la mateixa pero utilitznat les definicions de l'estandard desviation en comptes de la funcio built-in de la std().\n",
    "$$r =\\frac{\\sum_i (x_i - \\bar{x})(y_i - \\bar{y})}{\\sqrt{\\sum_j (x_j - \\bar{x})^2 \\sum_k (y_k - \\bar{y})^2}}$$\n"
   ]
  },
  {
   "cell_type": "code",
   "execution_count": 37,
   "id": "8bd4504f",
   "metadata": {},
   "outputs": [
    {
     "name": "stdout",
     "output_type": "stream",
     "text": [
      "El coefficient de correlacio es:  0.9684133966182732\n",
      "El coefficient de correlacio es: 0.968413396618273\n"
     ]
    }
   ],
   "source": [
    "# correlation coefficien function\n",
    "import numpy as np\n",
    "\n",
    "def corr_coef(x,y):\n",
    "    # number of samples:\n",
    "    n = len(x)\n",
    "    # means\n",
    "    meanx = np.mean(x)\n",
    "    meany = np.mean(y)\n",
    "    \n",
    "    # standard deviation\n",
    "    sigmax = np.std(x)\n",
    "    sigmay = np.std(y)\n",
    "    \n",
    "    #covariance:\n",
    "    covxy = 0\n",
    "    for i in range(0,n):\n",
    "        covxy = covxy + (x[i]-meanx)*(y[i]-meany)\n",
    "        \n",
    "    #correlation coefficient\n",
    "    r = (1/n)*(covxy / (sigmax*sigmay))\n",
    "    return r\n",
    "\n",
    "def corr_coef2(x,y):\n",
    "    n = len(x)\n",
    "    #averages\n",
    "    avex = np.mean(x)\n",
    "    avey = np.mean(y)\n",
    "    \n",
    "    covxy2 = 0\n",
    "    sigx = 0\n",
    "    sigy = 0\n",
    "    for i in range(0,n):\n",
    "        covxy2 = covxy2 + (x[i]-avex)*(y[i]-avey)\n",
    "        sigx = sigx + (x[i]-avex)**2\n",
    "        sigy = sigy + (y[i]-avey)**2\n",
    "    \n",
    "    rr = covxy2 / np.sqrt(sigx*sigy)\n",
    "    return rr\n",
    "    \n",
    "    \n",
    "# picking some values for the variables x and y to calculate the coefficient coeficients:\n",
    "x = [1,2,4,5,8]\n",
    "y = [5,20,40,80,100]\n",
    "print('El coefficient de correlacio es: ', corr_coef(x,y))\n",
    "print('El coefficient de correlacio es:', corr_coef2(x,y))"
   ]
  }
 ],
 "metadata": {
  "kernelspec": {
   "display_name": "Python 3 (ipykernel)",
   "language": "python",
   "name": "python3"
  },
  "language_info": {
   "codemirror_mode": {
    "name": "ipython",
    "version": 3
   },
   "file_extension": ".py",
   "mimetype": "text/x-python",
   "name": "python",
   "nbconvert_exporter": "python",
   "pygments_lexer": "ipython3",
   "version": "3.9.7"
  },
  "latex_envs": {
   "LaTeX_envs_menu_present": true,
   "autoclose": false,
   "autocomplete": true,
   "bibliofile": "biblio.bib",
   "cite_by": "apalike",
   "current_citInitial": 1,
   "eqLabelWithNumbers": true,
   "eqNumInitial": 1,
   "hotkeys": {
    "equation": "Ctrl-E",
    "itemize": "Ctrl-I"
   },
   "labels_anchors": false,
   "latex_user_defs": false,
   "report_style_numbering": false,
   "user_envs_cfg": false
  }
 },
 "nbformat": 4,
 "nbformat_minor": 5
}
