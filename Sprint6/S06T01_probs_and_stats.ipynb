{
 "cells": [
  {
   "cell_type": "markdown",
   "id": "3fe14e01",
   "metadata": {},
   "source": [
    "$\\#\\#\\#\\#\\#\\#\\#$ Llibreries $\\#\\#\\#\\#\\#\\#\\#$"
   ]
  },
  {
   "cell_type": "code",
   "execution_count": 2,
   "id": "ace151d1",
   "metadata": {},
   "outputs": [],
   "source": [
    "import numpy as np\n",
    "import pandas as pd\n",
    "import math\n",
    "import matplotlib.pyplot as plt\n",
    "import seaborn as sns\n",
    "import re\n",
    "from scipy import stats\n",
    "from sklearn.model_selection import train_test_split\n",
    "from sklearn.preprocessing import StandardScaler\n",
    "from imblearn.over_sampling import SMOTE\n",
    "\n",
    "import warnings\n",
    "\n",
    "warnings.filterwarnings('ignore') "
   ]
  },
  {
   "cell_type": "markdown",
   "id": "8e54cea0",
   "metadata": {},
   "source": [
    "$\\#\\#\\#\\#\\#\\#\\#\\#\\#\\#\\#\\#\\#\\#\\#\\#\\#\\#\\#\\#\\#\\#$"
   ]
  },
  {
   "cell_type": "markdown",
   "id": "306d27ad",
   "metadata": {},
   "source": [
    "%"
   ]
  },
  {
   "cell_type": "markdown",
   "id": "c5d0b662",
   "metadata": {},
   "source": [
    "# Data\n",
    "\n",
    "We load the cleaned data set from exercise 5:"
   ]
  },
  {
   "cell_type": "code",
   "execution_count": 3,
   "id": "22c92c61",
   "metadata": {},
   "outputs": [],
   "source": [
    "df = pd.read_csv('ufc-strikes-by-round-data_CLEAN.csv')"
   ]
  },
  {
   "cell_type": "markdown",
   "id": "522b21a9",
   "metadata": {},
   "source": [
    "There have been some error in the saving, it has created a new column of index, we delete it."
   ]
  },
  {
   "cell_type": "code",
   "execution_count": 4,
   "id": "6d6d8090",
   "metadata": {},
   "outputs": [],
   "source": [
    "df.drop('Unnamed: 0', axis=1, inplace=True)"
   ]
  },
  {
   "cell_type": "code",
   "execution_count": 5,
   "id": "a28e59d3",
   "metadata": {},
   "outputs": [
    {
     "data": {
      "text/html": [
       "<div>\n",
       "<style scoped>\n",
       "    .dataframe tbody tr th:only-of-type {\n",
       "        vertical-align: middle;\n",
       "    }\n",
       "\n",
       "    .dataframe tbody tr th {\n",
       "        vertical-align: top;\n",
       "    }\n",
       "\n",
       "    .dataframe thead th {\n",
       "        text-align: right;\n",
       "    }\n",
       "</style>\n",
       "<table border=\"1\" class=\"dataframe\">\n",
       "  <thead>\n",
       "    <tr style=\"text-align: right;\">\n",
       "      <th></th>\n",
       "      <th>roundinfo_id</th>\n",
       "      <th>fight_id</th>\n",
       "      <th>fight_round</th>\n",
       "      <th>fighter_id</th>\n",
       "      <th>kd</th>\n",
       "      <th>sig_str_made</th>\n",
       "      <th>sig_str_attempted</th>\n",
       "      <th>sig_str_percent</th>\n",
       "      <th>total_str_made</th>\n",
       "      <th>total_str_attempted</th>\n",
       "      <th>...</th>\n",
       "      <th>head_made</th>\n",
       "      <th>body_attempted</th>\n",
       "      <th>body_made</th>\n",
       "      <th>leg_attempted</th>\n",
       "      <th>leg_made</th>\n",
       "      <th>distance_attempted</th>\n",
       "      <th>distance_made</th>\n",
       "      <th>clinch_attempted</th>\n",
       "      <th>clinch_made</th>\n",
       "      <th>ground_attempted</th>\n",
       "    </tr>\n",
       "  </thead>\n",
       "  <tbody>\n",
       "    <tr>\n",
       "      <th>0</th>\n",
       "      <td>9532</td>\n",
       "      <td>1</td>\n",
       "      <td>5130</td>\n",
       "      <td>1</td>\n",
       "      <td>14</td>\n",
       "      <td>28</td>\n",
       "      <td>50</td>\n",
       "      <td>14</td>\n",
       "      <td>28</td>\n",
       "      <td>0</td>\n",
       "      <td>...</td>\n",
       "      <td>1</td>\n",
       "      <td>1</td>\n",
       "      <td>1</td>\n",
       "      <td>1</td>\n",
       "      <td>24</td>\n",
       "      <td>11</td>\n",
       "      <td>4</td>\n",
       "      <td>3</td>\n",
       "      <td>0</td>\n",
       "      <td>0</td>\n",
       "    </tr>\n",
       "    <tr>\n",
       "      <th>1</th>\n",
       "      <td>9532</td>\n",
       "      <td>1</td>\n",
       "      <td>5131</td>\n",
       "      <td>0</td>\n",
       "      <td>10</td>\n",
       "      <td>19</td>\n",
       "      <td>52</td>\n",
       "      <td>10</td>\n",
       "      <td>19</td>\n",
       "      <td>0</td>\n",
       "      <td>...</td>\n",
       "      <td>1</td>\n",
       "      <td>1</td>\n",
       "      <td>4</td>\n",
       "      <td>3</td>\n",
       "      <td>15</td>\n",
       "      <td>8</td>\n",
       "      <td>4</td>\n",
       "      <td>2</td>\n",
       "      <td>0</td>\n",
       "      <td>0</td>\n",
       "    </tr>\n",
       "    <tr>\n",
       "      <th>2</th>\n",
       "      <td>9533</td>\n",
       "      <td>1</td>\n",
       "      <td>5132</td>\n",
       "      <td>0</td>\n",
       "      <td>10</td>\n",
       "      <td>16</td>\n",
       "      <td>62</td>\n",
       "      <td>28</td>\n",
       "      <td>36</td>\n",
       "      <td>0</td>\n",
       "      <td>...</td>\n",
       "      <td>2</td>\n",
       "      <td>2</td>\n",
       "      <td>0</td>\n",
       "      <td>0</td>\n",
       "      <td>13</td>\n",
       "      <td>8</td>\n",
       "      <td>1</td>\n",
       "      <td>1</td>\n",
       "      <td>2</td>\n",
       "      <td>1</td>\n",
       "    </tr>\n",
       "    <tr>\n",
       "      <th>3</th>\n",
       "      <td>9533</td>\n",
       "      <td>1</td>\n",
       "      <td>5133</td>\n",
       "      <td>0</td>\n",
       "      <td>44</td>\n",
       "      <td>72</td>\n",
       "      <td>61</td>\n",
       "      <td>64</td>\n",
       "      <td>111</td>\n",
       "      <td>3</td>\n",
       "      <td>...</td>\n",
       "      <td>1</td>\n",
       "      <td>1</td>\n",
       "      <td>2</td>\n",
       "      <td>1</td>\n",
       "      <td>7</td>\n",
       "      <td>2</td>\n",
       "      <td>1</td>\n",
       "      <td>1</td>\n",
       "      <td>64</td>\n",
       "      <td>41</td>\n",
       "    </tr>\n",
       "    <tr>\n",
       "      <th>4</th>\n",
       "      <td>9533</td>\n",
       "      <td>2</td>\n",
       "      <td>5132</td>\n",
       "      <td>0</td>\n",
       "      <td>7</td>\n",
       "      <td>11</td>\n",
       "      <td>63</td>\n",
       "      <td>12</td>\n",
       "      <td>16</td>\n",
       "      <td>0</td>\n",
       "      <td>...</td>\n",
       "      <td>2</td>\n",
       "      <td>2</td>\n",
       "      <td>0</td>\n",
       "      <td>0</td>\n",
       "      <td>11</td>\n",
       "      <td>7</td>\n",
       "      <td>0</td>\n",
       "      <td>0</td>\n",
       "      <td>0</td>\n",
       "      <td>0</td>\n",
       "    </tr>\n",
       "  </tbody>\n",
       "</table>\n",
       "<p>5 rows × 26 columns</p>\n",
       "</div>"
      ],
      "text/plain": [
       "   roundinfo_id  fight_id  fight_round  fighter_id  kd  sig_str_made  \\\n",
       "0          9532         1         5130           1  14            28   \n",
       "1          9532         1         5131           0  10            19   \n",
       "2          9533         1         5132           0  10            16   \n",
       "3          9533         1         5133           0  44            72   \n",
       "4          9533         2         5132           0   7            11   \n",
       "\n",
       "   sig_str_attempted  sig_str_percent  total_str_made  total_str_attempted  \\\n",
       "0                 50               14              28                    0   \n",
       "1                 52               10              19                    0   \n",
       "2                 62               28              36                    0   \n",
       "3                 61               64             111                    3   \n",
       "4                 63               12              16                    0   \n",
       "\n",
       "   ...  head_made  body_attempted  body_made  leg_attempted  leg_made  \\\n",
       "0  ...          1               1          1              1        24   \n",
       "1  ...          1               1          4              3        15   \n",
       "2  ...          2               2          0              0        13   \n",
       "3  ...          1               1          2              1         7   \n",
       "4  ...          2               2          0              0        11   \n",
       "\n",
       "   distance_attempted  distance_made  clinch_attempted  clinch_made  \\\n",
       "0                  11              4                 3            0   \n",
       "1                   8              4                 2            0   \n",
       "2                   8              1                 1            2   \n",
       "3                   2              1                 1           64   \n",
       "4                   7              0                 0            0   \n",
       "\n",
       "   ground_attempted  \n",
       "0                 0  \n",
       "1                 0  \n",
       "2                 1  \n",
       "3                41  \n",
       "4                 0  \n",
       "\n",
       "[5 rows x 26 columns]"
      ]
     },
     "execution_count": 5,
     "metadata": {},
     "output_type": "execute_result"
    }
   ],
   "source": [
    "df.head()"
   ]
  },
  {
   "cell_type": "markdown",
   "id": "f035a150",
   "metadata": {},
   "source": [
    "# Nivell 1"
   ]
  },
  {
   "cell_type": "markdown",
   "id": "61ce61ae",
   "metadata": {},
   "source": [
    "## Exercici 1: Agafa un conjunt de dades de tema esportiu que t'agradi i selecciona un atribut del conjunt de dades. Calcula la moda, la mediana, la desviació estàndard i la mitjana aritmètica. "
   ]
  },
  {
   "cell_type": "code",
   "execution_count": 6,
   "id": "950a9314",
   "metadata": {},
   "outputs": [
    {
     "data": {
      "text/plain": [
       "Index(['roundinfo_id', 'fight_id', 'fight_round', 'fighter_id', 'kd',\n",
       "       'sig_str_made', 'sig_str_attempted', 'sig_str_percent',\n",
       "       'total_str_made', 'total_str_attempted', 'td_made', 'td_attempted',\n",
       "       'td_percent', 'pass', 'rev', 'head_attempted', 'head_made',\n",
       "       'body_attempted', 'body_made', 'leg_attempted', 'leg_made',\n",
       "       'distance_attempted', 'distance_made', 'clinch_attempted',\n",
       "       'clinch_made', 'ground_attempted'],\n",
       "      dtype='object')"
      ]
     },
     "execution_count": 6,
     "metadata": {},
     "output_type": "execute_result"
    }
   ],
   "source": [
    "df.columns"
   ]
  },
  {
   "cell_type": "code",
   "execution_count": 7,
   "id": "31b18608",
   "metadata": {},
   "outputs": [
    {
     "data": {
      "text/plain": [
       "0    37\n",
       "dtype: int64"
      ]
     },
     "execution_count": 7,
     "metadata": {},
     "output_type": "execute_result"
    }
   ],
   "source": [
    "# mode\n",
    "df.total_str_made.mode()"
   ]
  },
  {
   "cell_type": "code",
   "execution_count": 8,
   "id": "4118467d",
   "metadata": {},
   "outputs": [
    {
     "data": {
      "text/plain": [
       "39.0"
      ]
     },
     "execution_count": 8,
     "metadata": {},
     "output_type": "execute_result"
    }
   ],
   "source": [
    "# median\n",
    "df.total_str_made.median()"
   ]
  },
  {
   "cell_type": "code",
   "execution_count": 9,
   "id": "10afa1b4",
   "metadata": {},
   "outputs": [
    {
     "data": {
      "text/plain": [
       "26.070275118007945"
      ]
     },
     "execution_count": 9,
     "metadata": {},
     "output_type": "execute_result"
    }
   ],
   "source": [
    "# standard deviation\n",
    "df.total_str_made.std()"
   ]
  },
  {
   "cell_type": "code",
   "execution_count": 10,
   "id": "08ba74d9",
   "metadata": {},
   "outputs": [
    {
     "data": {
      "text/plain": [
       "42.37165119363395"
      ]
     },
     "execution_count": 10,
     "metadata": {},
     "output_type": "execute_result"
    }
   ],
   "source": [
    "# mean\n",
    "df.total_str_made.mean()"
   ]
  },
  {
   "cell_type": "code",
   "execution_count": 12,
   "id": "86f6b82b",
   "metadata": {
    "scrolled": true
   },
   "outputs": [
    {
     "data": {
      "image/png": "[encoded data removed]",
      "text/plain": [
       "<Figure size 432x288 with 1 Axes>"
      ]
     },
     "metadata": {
      "needs_background": "light"
     },
     "output_type": "display_data"
    }
   ],
   "source": [
    "sns.ecdfplot(df, x='total_str_made')\n",
    "plt.show()"
   ]
  },
  {
   "cell_type": "markdown",
   "id": "1d1f226b",
   "metadata": {},
   "source": [
    "Cumulative distribution of the column: total strikes made."
   ]
  },
  {
   "cell_type": "markdown",
   "id": "2240cb43",
   "metadata": {},
   "source": [
    "## Exercici 2 : Continuant amb les dades de tema esportiu, selecciona dos atributs i calcula'n la seva correlació. "
   ]
  },
  {
   "cell_type": "code",
   "execution_count": 13,
   "id": "9145d27d",
   "metadata": {},
   "outputs": [
    {
     "name": "stdout",
     "output_type": "stream",
     "text": [
      "correlation matrix:\n",
      " [[1.         0.60218607]\n",
      " [0.60218607 1.        ]]\n"
     ]
    },
    {
     "data": {
      "image/png": "[encoded data removed]",
      "text/plain": [
       "<Figure size 432x288 with 2 Axes>"
      ]
     },
     "metadata": {
      "needs_background": "light"
     },
     "output_type": "display_data"
    }
   ],
   "source": [
    "x = np.corrcoef(df.sig_str_made, df.head_made)\n",
    "print('correlation matrix:\\n {}'.format(x))\n",
    "xtik = ['signgle strike made','head made']\n",
    "ytik = ['signgle strike made','head made']\n",
    "sns.heatmap(x, xticklabels=xtik, yticklabels=ytik)\n",
    "plt.show()"
   ]
  },
  {
   "cell_type": "markdown",
   "id": "da8f7ec7",
   "metadata": {},
   "source": [
    "# Nivell 2"
   ]
  },
  {
   "cell_type": "markdown",
   "id": "402d30a2",
   "metadata": {},
   "source": [
    "## Exercici 3: Continuant amb les dades de tema esportiu, calcula la correlació de tots els atributs entre sí i representa'ls en una matriu amb diferents colors d'intensitat."
   ]
  },
  {
   "cell_type": "code",
   "execution_count": 14,
   "id": "9d7a2cab",
   "metadata": {},
   "outputs": [],
   "source": [
    "x = df.corr()"
   ]
  },
  {
   "cell_type": "code",
   "execution_count": 15,
   "id": "ae68872d",
   "metadata": {},
   "outputs": [
    {
     "data": {
      "image/png": "[encoded data removed]",
      "text/plain": [
       "<Figure size 720x504 with 2 Axes>"
      ]
     },
     "metadata": {
      "needs_background": "light"
     },
     "output_type": "display_data"
    }
   ],
   "source": [
    "fig, ax = plt.subplots(figsize=(10,7))\n",
    "sns.heatmap(x)\n",
    "plt.show()"
   ]
  },
  {
   "cell_type": "markdown",
   "id": "78292585",
   "metadata": {},
   "source": [
    "# Nivell 3"
   ]
  },
  {
   "cell_type": "markdown",
   "id": "6d447d68",
   "metadata": {},
   "source": [
    "## Exercici 4: Continuant amb les dades de tema esportiu, selecciona un atribut i calcula la mitjana geomètrica i la mitjana harmònica."
   ]
  },
  {
   "cell_type": "code",
   "execution_count": 23,
   "id": "e983f3d9",
   "metadata": {},
   "outputs": [
    {
     "data": {
      "text/plain": [
       "0.0"
      ]
     },
     "execution_count": 23,
     "metadata": {},
     "output_type": "execute_result"
    }
   ],
   "source": [
    "# geometric mean\n",
    "stats.gmean(df.sig_str_attempted)"
   ]
  },
  {
   "cell_type": "code",
   "execution_count": 24,
   "id": "06e2c57d",
   "metadata": {},
   "outputs": [
    {
     "data": {
      "text/plain": [
       "0.0"
      ]
     },
     "execution_count": 24,
     "metadata": {},
     "output_type": "execute_result"
    }
   ],
   "source": [
    "# harmonic mean\n",
    "stats.hmean(df.sig_str_attempted)"
   ]
  },
  {
   "cell_type": "markdown",
   "id": "5cf9c53d",
   "metadata": {},
   "source": [
    "The two results above are because of the unlucky chance that we have choosen a dataset with some values equal to 0, in all its columns.\n",
    "\n",
    "Since we have some values equal to 0, when calcuating the geometric mean, since its formula is:\n",
    "\n",
    "$$\\sqrt[N]{\\Pi x}$$\n",
    "\n",
    "Where N is the total number of values, x is each value and $\\Pi$ is the productory of all values x. If there is a single value equal to 0, then the geometric mean it is zero, by definition.\n",
    "\n",
    "The same applies to the harmonic mean, if a value on the data set is 0, then the harmonic mean it is zero. Its formual is:\n",
    "\n",
    "$$H = \\frac{N}{\\left(\\sum_{i=1}^{N} x_{i}\\right)^{-1}}$$\n",
    "\n",
    "where N is the total number of values and x is each value."
   ]
  }
 ],
 "metadata": {
  "kernelspec": {
   "display_name": "Python 3 (ipykernel)",
   "language": "python",
   "name": "python3"
  },
  "language_info": {
   "codemirror_mode": {
    "name": "ipython",
    "version": 3
   },
   "file_extension": ".py",
   "mimetype": "text/x-python",
   "name": "python",
   "nbconvert_exporter": "python",
   "pygments_lexer": "ipython3",
   "version": "3.9.7"
  },
  "latex_envs": {
   "LaTeX_envs_menu_present": true,
   "autoclose": false,
   "autocomplete": true,
   "bibliofile": "biblio.bib",
   "cite_by": "apalike",
   "current_citInitial": 1,
   "eqLabelWithNumbers": true,
   "eqNumInitial": 1,
   "hotkeys": {
    "equation": "Ctrl-E",
    "itemize": "Ctrl-I"
   },
   "labels_anchors": false,
   "latex_user_defs": false,
   "report_style_numbering": false,
   "user_envs_cfg": false
  }
 },
 "nbformat": 4,
 "nbformat_minor": 5
}
