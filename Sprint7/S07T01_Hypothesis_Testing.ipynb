{
 "cells": [
  {
   "cell_type": "markdown",
   "id": "9a1aa04b",
   "metadata": {},
   "source": [
    "$\\#\\#\\#\\#\\#\\#\\#$ Llibreries $\\#\\#\\#\\#\\#\\#\\#$"
   ]
  },
  {
   "cell_type": "code",
   "execution_count": 2,
   "id": "462a137c",
   "metadata": {},
   "outputs": [],
   "source": [
    "import numpy as np\n",
    "import pandas as pd\n",
    "import math\n",
    "import matplotlib.pyplot as plt\n",
    "import seaborn as sns\n",
    "import re\n",
    "from scipy import stats\n",
    "from sklearn.model_selection import train_test_split\n",
    "from sklearn.preprocessing import StandardScaler\n",
    "from imblearn.over_sampling import SMOTE\n",
    "\n",
    "import warnings\n",
    "\n",
    "warnings.filterwarnings('ignore') "
   ]
  },
  {
   "cell_type": "markdown",
   "id": "5662c740",
   "metadata": {},
   "source": [
    "$\\#\\#\\#\\#\\#\\#\\#\\#\\#\\#\\#\\#\\#\\#\\#\\#\\#\\#\\#\\#\\#\\#$"
   ]
  },
  {
   "cell_type": "markdown",
   "id": "198850c4",
   "metadata": {},
   "source": [
    "%"
   ]
  },
  {
   "cell_type": "markdown",
   "id": "649d508d",
   "metadata": {},
   "source": [
    "# Data\n",
    "\n",
    "We load the cleaned data set from exercise 5:"
   ]
  },
  {
   "cell_type": "code",
   "execution_count": 3,
   "id": "a60aacbb",
   "metadata": {},
   "outputs": [],
   "source": [
    "df = pd.read_csv('ufc-strikes-by-round-data_CLEAN.csv')"
   ]
  },
  {
   "cell_type": "code",
   "execution_count": 4,
   "id": "64094819",
   "metadata": {},
   "outputs": [],
   "source": [
    "df.drop('Unnamed: 0', axis=1, inplace=True)"
   ]
  },
  {
   "cell_type": "code",
   "execution_count": 5,
   "id": "572a94af",
   "metadata": {},
   "outputs": [
    {
     "data": {
      "text/html": [
       "<div>\n",
       "<style scoped>\n",
       "    .dataframe tbody tr th:only-of-type {\n",
       "        vertical-align: middle;\n",
       "    }\n",
       "\n",
       "    .dataframe tbody tr th {\n",
       "        vertical-align: top;\n",
       "    }\n",
       "\n",
       "    .dataframe thead th {\n",
       "        text-align: right;\n",
       "    }\n",
       "</style>\n",
       "<table border=\"1\" class=\"dataframe\">\n",
       "  <thead>\n",
       "    <tr style=\"text-align: right;\">\n",
       "      <th></th>\n",
       "      <th>roundinfo_id</th>\n",
       "      <th>fight_id</th>\n",
       "      <th>fight_round</th>\n",
       "      <th>fighter_id</th>\n",
       "      <th>kd</th>\n",
       "      <th>sig_str_made</th>\n",
       "      <th>sig_str_attempted</th>\n",
       "      <th>sig_str_percent</th>\n",
       "      <th>total_str_made</th>\n",
       "      <th>total_str_attempted</th>\n",
       "      <th>...</th>\n",
       "      <th>head_made</th>\n",
       "      <th>body_attempted</th>\n",
       "      <th>body_made</th>\n",
       "      <th>leg_attempted</th>\n",
       "      <th>leg_made</th>\n",
       "      <th>distance_attempted</th>\n",
       "      <th>distance_made</th>\n",
       "      <th>clinch_attempted</th>\n",
       "      <th>clinch_made</th>\n",
       "      <th>ground_attempted</th>\n",
       "    </tr>\n",
       "  </thead>\n",
       "  <tbody>\n",
       "    <tr>\n",
       "      <th>0</th>\n",
       "      <td>9532</td>\n",
       "      <td>1</td>\n",
       "      <td>5130</td>\n",
       "      <td>1</td>\n",
       "      <td>14</td>\n",
       "      <td>28</td>\n",
       "      <td>50</td>\n",
       "      <td>14</td>\n",
       "      <td>28</td>\n",
       "      <td>0</td>\n",
       "      <td>...</td>\n",
       "      <td>1</td>\n",
       "      <td>1</td>\n",
       "      <td>1</td>\n",
       "      <td>1</td>\n",
       "      <td>24</td>\n",
       "      <td>11</td>\n",
       "      <td>4</td>\n",
       "      <td>3</td>\n",
       "      <td>0</td>\n",
       "      <td>0</td>\n",
       "    </tr>\n",
       "    <tr>\n",
       "      <th>1</th>\n",
       "      <td>9532</td>\n",
       "      <td>1</td>\n",
       "      <td>5131</td>\n",
       "      <td>0</td>\n",
       "      <td>10</td>\n",
       "      <td>19</td>\n",
       "      <td>52</td>\n",
       "      <td>10</td>\n",
       "      <td>19</td>\n",
       "      <td>0</td>\n",
       "      <td>...</td>\n",
       "      <td>1</td>\n",
       "      <td>1</td>\n",
       "      <td>4</td>\n",
       "      <td>3</td>\n",
       "      <td>15</td>\n",
       "      <td>8</td>\n",
       "      <td>4</td>\n",
       "      <td>2</td>\n",
       "      <td>0</td>\n",
       "      <td>0</td>\n",
       "    </tr>\n",
       "    <tr>\n",
       "      <th>2</th>\n",
       "      <td>9533</td>\n",
       "      <td>1</td>\n",
       "      <td>5132</td>\n",
       "      <td>0</td>\n",
       "      <td>10</td>\n",
       "      <td>16</td>\n",
       "      <td>62</td>\n",
       "      <td>28</td>\n",
       "      <td>36</td>\n",
       "      <td>0</td>\n",
       "      <td>...</td>\n",
       "      <td>2</td>\n",
       "      <td>2</td>\n",
       "      <td>0</td>\n",
       "      <td>0</td>\n",
       "      <td>13</td>\n",
       "      <td>8</td>\n",
       "      <td>1</td>\n",
       "      <td>1</td>\n",
       "      <td>2</td>\n",
       "      <td>1</td>\n",
       "    </tr>\n",
       "    <tr>\n",
       "      <th>3</th>\n",
       "      <td>9533</td>\n",
       "      <td>1</td>\n",
       "      <td>5133</td>\n",
       "      <td>0</td>\n",
       "      <td>44</td>\n",
       "      <td>72</td>\n",
       "      <td>61</td>\n",
       "      <td>64</td>\n",
       "      <td>111</td>\n",
       "      <td>3</td>\n",
       "      <td>...</td>\n",
       "      <td>1</td>\n",
       "      <td>1</td>\n",
       "      <td>2</td>\n",
       "      <td>1</td>\n",
       "      <td>7</td>\n",
       "      <td>2</td>\n",
       "      <td>1</td>\n",
       "      <td>1</td>\n",
       "      <td>64</td>\n",
       "      <td>41</td>\n",
       "    </tr>\n",
       "    <tr>\n",
       "      <th>4</th>\n",
       "      <td>9533</td>\n",
       "      <td>2</td>\n",
       "      <td>5132</td>\n",
       "      <td>0</td>\n",
       "      <td>7</td>\n",
       "      <td>11</td>\n",
       "      <td>63</td>\n",
       "      <td>12</td>\n",
       "      <td>16</td>\n",
       "      <td>0</td>\n",
       "      <td>...</td>\n",
       "      <td>2</td>\n",
       "      <td>2</td>\n",
       "      <td>0</td>\n",
       "      <td>0</td>\n",
       "      <td>11</td>\n",
       "      <td>7</td>\n",
       "      <td>0</td>\n",
       "      <td>0</td>\n",
       "      <td>0</td>\n",
       "      <td>0</td>\n",
       "    </tr>\n",
       "  </tbody>\n",
       "</table>\n",
       "<p>5 rows × 26 columns</p>\n",
       "</div>"
      ],
      "text/plain": [
       "   roundinfo_id  fight_id  fight_round  fighter_id  kd  sig_str_made  \\\n",
       "0          9532         1         5130           1  14            28   \n",
       "1          9532         1         5131           0  10            19   \n",
       "2          9533         1         5132           0  10            16   \n",
       "3          9533         1         5133           0  44            72   \n",
       "4          9533         2         5132           0   7            11   \n",
       "\n",
       "   sig_str_attempted  sig_str_percent  total_str_made  total_str_attempted  \\\n",
       "0                 50               14              28                    0   \n",
       "1                 52               10              19                    0   \n",
       "2                 62               28              36                    0   \n",
       "3                 61               64             111                    3   \n",
       "4                 63               12              16                    0   \n",
       "\n",
       "   ...  head_made  body_attempted  body_made  leg_attempted  leg_made  \\\n",
       "0  ...          1               1          1              1        24   \n",
       "1  ...          1               1          4              3        15   \n",
       "2  ...          2               2          0              0        13   \n",
       "3  ...          1               1          2              1         7   \n",
       "4  ...          2               2          0              0        11   \n",
       "\n",
       "   distance_attempted  distance_made  clinch_attempted  clinch_made  \\\n",
       "0                  11              4                 3            0   \n",
       "1                   8              4                 2            0   \n",
       "2                   8              1                 1            2   \n",
       "3                   2              1                 1           64   \n",
       "4                   7              0                 0            0   \n",
       "\n",
       "   ground_attempted  \n",
       "0                 0  \n",
       "1                 0  \n",
       "2                 1  \n",
       "3                41  \n",
       "4                 0  \n",
       "\n",
       "[5 rows x 26 columns]"
      ]
     },
     "execution_count": 5,
     "metadata": {},
     "output_type": "execute_result"
    }
   ],
   "source": [
    "df.head()"
   ]
  },
  {
   "cell_type": "markdown",
   "id": "c560755e",
   "metadata": {},
   "source": [
    "To complete this homework we will use the test from theoretical information on the Academia website:\n",
    "https://machinelearningmastery.com/statistical-hypothesis-tests-in-python-cheat-sheet/.\n",
    "\n",
    "When we are using null hypothesis and p-values it is easy to overestimate the sample. With fMRI data, for example, if we want to infer a network and we use these estimates, in some cases we will lose or win connections on the network that might be relavant for the fact we are estimating values over a threshold (usually 0.05) that might not contemplate that a link on this case might be caused by and indirect connection between two other nodes or, that we are accepting flucutations in the dataset as true links. This is why in research before picking a alpha value equal to 0.05 they study a range of alphas and determine the more adequate for the type of system they are studying. In the fMRI networks, the p value picked is usually around 0.15, this value discards most of the fluctuations, [1], and it takes into account the nature of the link (direct/indirect connection).\n",
    "\n",
    "[1] https://www.ncbi.nlm.nih.gov/pmc/articles/PMC1904171/"
   ]
  },
  {
   "cell_type": "markdown",
   "id": "a2e01b93",
   "metadata": {},
   "source": [
    "# Nivell 1"
   ]
  },
  {
   "cell_type": "markdown",
   "id": "a93ef8de",
   "metadata": {},
   "source": [
    "## Exercici 1: Agafa un conjunt de dades de tema esportiu que t'agradi i selecciona un atribut del conjunt de dades. Calcula el p-valor i digues si rebutja la hipòtesi nul·la agafant un alfa de 5%. "
   ]
  },
  {
   "cell_type": "code",
   "execution_count": 26,
   "id": "1481f35c",
   "metadata": {},
   "outputs": [
    {
     "name": "stdout",
     "output_type": "stream",
     "text": [
      "Null Hypothesis accepted.\n"
     ]
    }
   ],
   "source": [
    "# pvalue with tTest:\n",
    "# I will choose single strike attempted. Hypothesis: The single strikes attempted are equal to the mean of the\n",
    "# population of the strikes attempted.\n",
    "popmean = df.sig_str_attempted.mean()\n",
    "tset, pval = stats.ttest_1samp(df.sig_str_attempted, popmean)\n",
    "\n",
    "if pval < 0.05:\n",
    "    print(\"Null Hypothesis rejected.\")\n",
    "else:\n",
    "    print(\"Null Hypothesis accepted.\")"
   ]
  },
  {
   "cell_type": "markdown",
   "id": "1960978f",
   "metadata": {},
   "source": [
    "Of course, since we have choosen the t-test to compare it with the mean of the feature, the hypothesis is accepted."
   ]
  },
  {
   "cell_type": "markdown",
   "id": "b9842e2c",
   "metadata": {},
   "source": [
    "# Nivell 2"
   ]
  },
  {
   "cell_type": "markdown",
   "id": "ff3ad1a6",
   "metadata": {},
   "source": [
    "## Exercici 2: Continua amb el conjunt de dades de tema esportiu que t'agradi i selecciona dos altres atributs del conjunt de dades. Calcula els p-valors i digues si rebutgen la hipòtesi nul·la agafant un alfa de 5%.\n"
   ]
  },
  {
   "cell_type": "code",
   "execution_count": 7,
   "id": "86742273",
   "metadata": {},
   "outputs": [
    {
     "name": "stdout",
     "output_type": "stream",
     "text": [
      "Dependents. Accepts Null Hypothesis.\n"
     ]
    }
   ],
   "source": [
    "# Chi square test:\n",
    "\n",
    "# Are dependents the strikes made with the strikes on legs?\n",
    "\n",
    "table = pd.crosstab(df.total_str_made, df.leg_made)\n",
    "stat, pval, dof, expected = stats.chi2_contingency(table)\n",
    "\n",
    "if pval <= 0.05:\n",
    "    print(\"Dependents. Accepts Null Hypothesis.\")\n",
    "else:\n",
    "    print(\"Independents. Rejects Null Hypothesis.\")"
   ]
  },
  {
   "cell_type": "markdown",
   "id": "9901ee13",
   "metadata": {},
   "source": [
    "They are dependent because part of the total count of strikes made, some must have landed on the rival fighter legs."
   ]
  },
  {
   "cell_type": "code",
   "execution_count": 25,
   "id": "837931a2",
   "metadata": {},
   "outputs": [
    {
     "name": "stdout",
     "output_type": "stream",
     "text": [
      "correlation between them:0.74\n",
      "Dependents. Accepts Null Hypothesis.\n"
     ]
    }
   ],
   "source": [
    "# We can try to the same with Pearson's correlation:\n",
    "x, pval = stats.pearsonr(df.total_str_made, df.leg_made)\n",
    "print('correlation between them:{:.2f}'.format(x))\n",
    "\n",
    "# now we need to apply the p-value over each one of the values in the correlation matrix.\n",
    "if pval <= 0.05:\n",
    "    print(\"Dependents. Accepts Null Hypothesis.\")\n",
    "else:\n",
    "    print(\"Independents. Reject Null Hypothesis.\")"
   ]
  },
  {
   "cell_type": "markdown",
   "id": "06059b83",
   "metadata": {},
   "source": [
    "# Nivell 3"
   ]
  },
  {
   "cell_type": "markdown",
   "id": "124dc327",
   "metadata": {},
   "source": [
    "## Exercici 3: Continua amb el conjunt de dades de tema esportiu que t'agradi i selecciona tres atributs del conjunt de dades. Calcula el p-valor i digues si rebutja la hipòtesi nul·la agafant un alfa de 5%."
   ]
  },
  {
   "cell_type": "code",
   "execution_count": 15,
   "id": "a89bef47",
   "metadata": {},
   "outputs": [
    {
     "name": "stdout",
     "output_type": "stream",
     "text": [
      "Independents. We reject null hypothesis.\n"
     ]
    }
   ],
   "source": [
    "# ANOVA test:\n",
    "#Null hypothesis: The strikes made are the ones recibed in the head and in the body? (are dependents)\n",
    "\n",
    "stat, pval = stats.f_oneway(df.total_str_made, df.head_made, df.body_made)\n",
    "\n",
    "if pval > 0.05:\n",
    "    print(\"Dependents. We accept null hypothesis.\")\n",
    "else:\n",
    "    print(\"Independents. We reject null hypothesis.\")\n"
   ]
  },
  {
   "cell_type": "markdown",
   "id": "114de53e",
   "metadata": {},
   "source": [
    "This result has easy interpretation, while total strikes made is dependent of head strikes and body strikes, head strikes and body strikes are independent, since a fighter that hits on the head not increases the value of hits in the body. The same will have applied if we were using the variable legs strikes instead of body or head, while mantaining the other in the analysis."
   ]
  }
 ],
 "metadata": {
  "kernelspec": {
   "display_name": "Python 3 (ipykernel)",
   "language": "python",
   "name": "python3"
  },
  "language_info": {
   "codemirror_mode": {
    "name": "ipython",
    "version": 3
   },
   "file_extension": ".py",
   "mimetype": "text/x-python",
   "name": "python",
   "nbconvert_exporter": "python",
   "pygments_lexer": "ipython3",
   "version": "3.9.7"
  },
  "latex_envs": {
   "LaTeX_envs_menu_present": true,
   "autoclose": false,
   "autocomplete": true,
   "bibliofile": "biblio.bib",
   "cite_by": "apalike",
   "current_citInitial": 1,
   "eqLabelWithNumbers": true,
   "eqNumInitial": 1,
   "hotkeys": {
    "equation": "Ctrl-E",
    "itemize": "Ctrl-I"
   },
   "labels_anchors": false,
   "latex_user_defs": false,
   "report_style_numbering": false,
   "user_envs_cfg": false
  }
 },
 "nbformat": 4,
 "nbformat_minor": 5
}
