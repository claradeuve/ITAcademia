{
 "cells": [
  {
   "cell_type": "markdown",
   "id": "2f91847a",
   "metadata": {},
   "source": [
    "$\\#\\#\\#\\#\\#\\#\\#$ Llibreries $\\#\\#\\#\\#\\#\\#\\#$"
   ]
  },
  {
   "cell_type": "code",
   "execution_count": 54,
   "id": "62696365",
   "metadata": {},
   "outputs": [],
   "source": [
    "import numpy as np\n",
    "import pandas as pd\n",
    "import math\n",
    "import matplotlib.pyplot as plt\n",
    "import seaborn as sns\n",
    "import re\n",
    "from scipy import stats\n",
    "from sklearn.preprocessing import StandardScaler\n",
    "from sklearn.preprocessing import MinMaxScaler\n",
    "from sklearn.decomposition import PCA\n",
    "\n",
    "import warnings\n",
    "\n",
    "warnings.filterwarnings('ignore') "
   ]
  },
  {
   "cell_type": "markdown",
   "id": "13451f3d",
   "metadata": {},
   "source": [
    "$\\#\\#\\#\\#\\#\\#\\#\\#\\#\\#\\#\\#\\#\\#\\#\\#\\#\\#\\#\\#\\#\\#$"
   ]
  },
  {
   "cell_type": "markdown",
   "id": "47349c26",
   "metadata": {},
   "source": [
    "## Data:\n",
    "\n",
    "We load the dataset from sprint 5, the one previously cleaned:"
   ]
  },
  {
   "cell_type": "code",
   "execution_count": 55,
   "id": "4f247869",
   "metadata": {},
   "outputs": [],
   "source": [
    "df = pd.read_csv('ufc-strikes-by-round-data_CLEAN.csv')"
   ]
  },
  {
   "cell_type": "code",
   "execution_count": 56,
   "id": "085ab121",
   "metadata": {},
   "outputs": [],
   "source": [
    "df.drop('Unnamed: 0', axis=1, inplace=True)"
   ]
  },
  {
   "cell_type": "code",
   "execution_count": 57,
   "id": "bbb279a6",
   "metadata": {},
   "outputs": [
    {
     "data": {
      "text/html": [
       "<div>\n",
       "<style scoped>\n",
       "    .dataframe tbody tr th:only-of-type {\n",
       "        vertical-align: middle;\n",
       "    }\n",
       "\n",
       "    .dataframe tbody tr th {\n",
       "        vertical-align: top;\n",
       "    }\n",
       "\n",
       "    .dataframe thead th {\n",
       "        text-align: right;\n",
       "    }\n",
       "</style>\n",
       "<table border=\"1\" class=\"dataframe\">\n",
       "  <thead>\n",
       "    <tr style=\"text-align: right;\">\n",
       "      <th></th>\n",
       "      <th>roundinfo_id</th>\n",
       "      <th>fight_id</th>\n",
       "      <th>fight_round</th>\n",
       "      <th>fighter_id</th>\n",
       "      <th>kd</th>\n",
       "      <th>sig_str_made</th>\n",
       "      <th>sig_str_attempted</th>\n",
       "      <th>sig_str_percent</th>\n",
       "      <th>total_str_made</th>\n",
       "      <th>total_str_attempted</th>\n",
       "      <th>...</th>\n",
       "      <th>head_made</th>\n",
       "      <th>body_attempted</th>\n",
       "      <th>body_made</th>\n",
       "      <th>leg_attempted</th>\n",
       "      <th>leg_made</th>\n",
       "      <th>distance_attempted</th>\n",
       "      <th>distance_made</th>\n",
       "      <th>clinch_attempted</th>\n",
       "      <th>clinch_made</th>\n",
       "      <th>ground_attempted</th>\n",
       "    </tr>\n",
       "  </thead>\n",
       "  <tbody>\n",
       "    <tr>\n",
       "      <th>0</th>\n",
       "      <td>9532</td>\n",
       "      <td>1</td>\n",
       "      <td>5130</td>\n",
       "      <td>1</td>\n",
       "      <td>14</td>\n",
       "      <td>28</td>\n",
       "      <td>50</td>\n",
       "      <td>14</td>\n",
       "      <td>28</td>\n",
       "      <td>0</td>\n",
       "      <td>...</td>\n",
       "      <td>1</td>\n",
       "      <td>1</td>\n",
       "      <td>1</td>\n",
       "      <td>1</td>\n",
       "      <td>24</td>\n",
       "      <td>11</td>\n",
       "      <td>4</td>\n",
       "      <td>3</td>\n",
       "      <td>0</td>\n",
       "      <td>0</td>\n",
       "    </tr>\n",
       "    <tr>\n",
       "      <th>1</th>\n",
       "      <td>9532</td>\n",
       "      <td>1</td>\n",
       "      <td>5131</td>\n",
       "      <td>0</td>\n",
       "      <td>10</td>\n",
       "      <td>19</td>\n",
       "      <td>52</td>\n",
       "      <td>10</td>\n",
       "      <td>19</td>\n",
       "      <td>0</td>\n",
       "      <td>...</td>\n",
       "      <td>1</td>\n",
       "      <td>1</td>\n",
       "      <td>4</td>\n",
       "      <td>3</td>\n",
       "      <td>15</td>\n",
       "      <td>8</td>\n",
       "      <td>4</td>\n",
       "      <td>2</td>\n",
       "      <td>0</td>\n",
       "      <td>0</td>\n",
       "    </tr>\n",
       "    <tr>\n",
       "      <th>2</th>\n",
       "      <td>9533</td>\n",
       "      <td>1</td>\n",
       "      <td>5132</td>\n",
       "      <td>0</td>\n",
       "      <td>10</td>\n",
       "      <td>16</td>\n",
       "      <td>62</td>\n",
       "      <td>28</td>\n",
       "      <td>36</td>\n",
       "      <td>0</td>\n",
       "      <td>...</td>\n",
       "      <td>2</td>\n",
       "      <td>2</td>\n",
       "      <td>0</td>\n",
       "      <td>0</td>\n",
       "      <td>13</td>\n",
       "      <td>8</td>\n",
       "      <td>1</td>\n",
       "      <td>1</td>\n",
       "      <td>2</td>\n",
       "      <td>1</td>\n",
       "    </tr>\n",
       "    <tr>\n",
       "      <th>3</th>\n",
       "      <td>9533</td>\n",
       "      <td>1</td>\n",
       "      <td>5133</td>\n",
       "      <td>0</td>\n",
       "      <td>44</td>\n",
       "      <td>72</td>\n",
       "      <td>61</td>\n",
       "      <td>64</td>\n",
       "      <td>111</td>\n",
       "      <td>3</td>\n",
       "      <td>...</td>\n",
       "      <td>1</td>\n",
       "      <td>1</td>\n",
       "      <td>2</td>\n",
       "      <td>1</td>\n",
       "      <td>7</td>\n",
       "      <td>2</td>\n",
       "      <td>1</td>\n",
       "      <td>1</td>\n",
       "      <td>64</td>\n",
       "      <td>41</td>\n",
       "    </tr>\n",
       "    <tr>\n",
       "      <th>4</th>\n",
       "      <td>9533</td>\n",
       "      <td>2</td>\n",
       "      <td>5132</td>\n",
       "      <td>0</td>\n",
       "      <td>7</td>\n",
       "      <td>11</td>\n",
       "      <td>63</td>\n",
       "      <td>12</td>\n",
       "      <td>16</td>\n",
       "      <td>0</td>\n",
       "      <td>...</td>\n",
       "      <td>2</td>\n",
       "      <td>2</td>\n",
       "      <td>0</td>\n",
       "      <td>0</td>\n",
       "      <td>11</td>\n",
       "      <td>7</td>\n",
       "      <td>0</td>\n",
       "      <td>0</td>\n",
       "      <td>0</td>\n",
       "      <td>0</td>\n",
       "    </tr>\n",
       "  </tbody>\n",
       "</table>\n",
       "<p>5 rows × 26 columns</p>\n",
       "</div>"
      ],
      "text/plain": [
       "   roundinfo_id  fight_id  fight_round  fighter_id  kd  sig_str_made  \\\n",
       "0          9532         1         5130           1  14            28   \n",
       "1          9532         1         5131           0  10            19   \n",
       "2          9533         1         5132           0  10            16   \n",
       "3          9533         1         5133           0  44            72   \n",
       "4          9533         2         5132           0   7            11   \n",
       "\n",
       "   sig_str_attempted  sig_str_percent  total_str_made  total_str_attempted  \\\n",
       "0                 50               14              28                    0   \n",
       "1                 52               10              19                    0   \n",
       "2                 62               28              36                    0   \n",
       "3                 61               64             111                    3   \n",
       "4                 63               12              16                    0   \n",
       "\n",
       "   ...  head_made  body_attempted  body_made  leg_attempted  leg_made  \\\n",
       "0  ...          1               1          1              1        24   \n",
       "1  ...          1               1          4              3        15   \n",
       "2  ...          2               2          0              0        13   \n",
       "3  ...          1               1          2              1         7   \n",
       "4  ...          2               2          0              0        11   \n",
       "\n",
       "   distance_attempted  distance_made  clinch_attempted  clinch_made  \\\n",
       "0                  11              4                 3            0   \n",
       "1                   8              4                 2            0   \n",
       "2                   8              1                 1            2   \n",
       "3                   2              1                 1           64   \n",
       "4                   7              0                 0            0   \n",
       "\n",
       "   ground_attempted  \n",
       "0                 0  \n",
       "1                 0  \n",
       "2                 1  \n",
       "3                41  \n",
       "4                 0  \n",
       "\n",
       "[5 rows x 26 columns]"
      ]
     },
     "execution_count": 57,
     "metadata": {},
     "output_type": "execute_result"
    }
   ],
   "source": [
    "df.head()"
   ]
  },
  {
   "cell_type": "markdown",
   "id": "073e3c7d",
   "metadata": {},
   "source": [
    "# Nivell 1"
   ]
  },
  {
   "cell_type": "markdown",
   "id": "018399b2",
   "metadata": {},
   "source": [
    "## Exercici 1: Agafa un conjunt de dades de tema esportiu que t'agradi i normalitza els atributs categòrics en dummy. Estandaritza els atributs numèrics amb StandardScaler.\n"
   ]
  },
  {
   "cell_type": "markdown",
   "id": "ce06847c",
   "metadata": {},
   "source": [
    "The exercise consists in two parts: first, we need to normalize the categorical attributes in dummy. Then, the numerical attributes by using the StandardScaler."
   ]
  },
  {
   "cell_type": "markdown",
   "id": "a9750dc9",
   "metadata": {},
   "source": [
    "In our dataset the categorical attributes are:\n",
    " - roundinfo_id: number of the fight given by the UFC.\n",
    " - fight_id: number of the round in the fight.\n",
    " - fight_round: number of the rounds a fighter had fought.\n",
    " - fight_id: winner of the round. The winner of the fight is 0, while the loser, 1, might also win a around."
   ]
  },
  {
   "cell_type": "code",
   "execution_count": 58,
   "id": "77fef3b8",
   "metadata": {},
   "outputs": [],
   "source": [
    "# normalize the categorical attributes in dummies:\n",
    "cat1 = pd.get_dummies(df.roundinfo_id)\n",
    "cat2 = pd.get_dummies(df.fight_id)\n",
    "cat3 = pd.get_dummies(df.fight_round)\n",
    "cat4 = pd.get_dummies(df.fighter_id)"
   ]
  },
  {
   "cell_type": "markdown",
   "id": "67193b25",
   "metadata": {},
   "source": [
    "Next, we show how the function .get_dummies normalizes the categorical attributes of fight_id and fighter_id. We have choosen show this two values since they have less categorical attributes. The roundinfo_id and the fight_round, vary the number from fight to fight, thus, in the case of roundinfo_id they change the value each two rows (since two rows make a round, one for each fighter), we have 6475 distinct values, and fight_round, changes for each round the fighter fights, we have 2229 distinct values."
   ]
  },
  {
   "cell_type": "code",
   "execution_count": 59,
   "id": "364c0a51",
   "metadata": {},
   "outputs": [
    {
     "data": {
      "text/plain": [
       "6475"
      ]
     },
     "execution_count": 59,
     "metadata": {},
     "output_type": "execute_result"
    }
   ],
   "source": [
    "df.roundinfo_id.nunique()"
   ]
  },
  {
   "cell_type": "code",
   "execution_count": 60,
   "id": "ee438d35",
   "metadata": {},
   "outputs": [
    {
     "data": {
      "text/plain": [
       "2229"
      ]
     },
     "execution_count": 60,
     "metadata": {},
     "output_type": "execute_result"
    }
   ],
   "source": [
    "df.fight_round.nunique()"
   ]
  },
  {
   "cell_type": "code",
   "execution_count": 61,
   "id": "c8648a17",
   "metadata": {},
   "outputs": [
    {
     "data": {
      "text/html": [
       "<div>\n",
       "<style scoped>\n",
       "    .dataframe tbody tr th:only-of-type {\n",
       "        vertical-align: middle;\n",
       "    }\n",
       "\n",
       "    .dataframe tbody tr th {\n",
       "        vertical-align: top;\n",
       "    }\n",
       "\n",
       "    .dataframe thead th {\n",
       "        text-align: right;\n",
       "    }\n",
       "</style>\n",
       "<table border=\"1\" class=\"dataframe\">\n",
       "  <thead>\n",
       "    <tr style=\"text-align: right;\">\n",
       "      <th></th>\n",
       "      <th>1</th>\n",
       "      <th>2</th>\n",
       "      <th>3</th>\n",
       "      <th>4</th>\n",
       "      <th>5</th>\n",
       "    </tr>\n",
       "  </thead>\n",
       "  <tbody>\n",
       "    <tr>\n",
       "      <th>0</th>\n",
       "      <td>1</td>\n",
       "      <td>0</td>\n",
       "      <td>0</td>\n",
       "      <td>0</td>\n",
       "      <td>0</td>\n",
       "    </tr>\n",
       "    <tr>\n",
       "      <th>1</th>\n",
       "      <td>1</td>\n",
       "      <td>0</td>\n",
       "      <td>0</td>\n",
       "      <td>0</td>\n",
       "      <td>0</td>\n",
       "    </tr>\n",
       "    <tr>\n",
       "      <th>2</th>\n",
       "      <td>1</td>\n",
       "      <td>0</td>\n",
       "      <td>0</td>\n",
       "      <td>0</td>\n",
       "      <td>0</td>\n",
       "    </tr>\n",
       "    <tr>\n",
       "      <th>3</th>\n",
       "      <td>1</td>\n",
       "      <td>0</td>\n",
       "      <td>0</td>\n",
       "      <td>0</td>\n",
       "      <td>0</td>\n",
       "    </tr>\n",
       "    <tr>\n",
       "      <th>4</th>\n",
       "      <td>0</td>\n",
       "      <td>1</td>\n",
       "      <td>0</td>\n",
       "      <td>0</td>\n",
       "      <td>0</td>\n",
       "    </tr>\n",
       "  </tbody>\n",
       "</table>\n",
       "</div>"
      ],
      "text/plain": [
       "   1  2  3  4  5\n",
       "0  1  0  0  0  0\n",
       "1  1  0  0  0  0\n",
       "2  1  0  0  0  0\n",
       "3  1  0  0  0  0\n",
       "4  0  1  0  0  0"
      ]
     },
     "execution_count": 61,
     "metadata": {},
     "output_type": "execute_result"
    }
   ],
   "source": [
    "cat2.head()"
   ]
  },
  {
   "cell_type": "markdown",
   "id": "8090a604",
   "metadata": {},
   "source": [
    "We can see that fights have up to five rounds, although some can even finish in the first round, as it is case of the record 0."
   ]
  },
  {
   "cell_type": "code",
   "execution_count": 62,
   "id": "6df6c698",
   "metadata": {
    "scrolled": true
   },
   "outputs": [
    {
     "data": {
      "text/html": [
       "<div>\n",
       "<style scoped>\n",
       "    .dataframe tbody tr th:only-of-type {\n",
       "        vertical-align: middle;\n",
       "    }\n",
       "\n",
       "    .dataframe tbody tr th {\n",
       "        vertical-align: top;\n",
       "    }\n",
       "\n",
       "    .dataframe thead th {\n",
       "        text-align: right;\n",
       "    }\n",
       "</style>\n",
       "<table border=\"1\" class=\"dataframe\">\n",
       "  <thead>\n",
       "    <tr style=\"text-align: right;\">\n",
       "      <th></th>\n",
       "      <th>0</th>\n",
       "      <th>1</th>\n",
       "    </tr>\n",
       "  </thead>\n",
       "  <tbody>\n",
       "    <tr>\n",
       "      <th>0</th>\n",
       "      <td>0</td>\n",
       "      <td>1</td>\n",
       "    </tr>\n",
       "    <tr>\n",
       "      <th>1</th>\n",
       "      <td>1</td>\n",
       "      <td>0</td>\n",
       "    </tr>\n",
       "    <tr>\n",
       "      <th>2</th>\n",
       "      <td>1</td>\n",
       "      <td>0</td>\n",
       "    </tr>\n",
       "    <tr>\n",
       "      <th>3</th>\n",
       "      <td>1</td>\n",
       "      <td>0</td>\n",
       "    </tr>\n",
       "    <tr>\n",
       "      <th>4</th>\n",
       "      <td>1</td>\n",
       "      <td>0</td>\n",
       "    </tr>\n",
       "  </tbody>\n",
       "</table>\n",
       "</div>"
      ],
      "text/plain": [
       "   0  1\n",
       "0  0  1\n",
       "1  1  0\n",
       "2  1  0\n",
       "3  1  0\n",
       "4  1  0"
      ]
     },
     "execution_count": 62,
     "metadata": {},
     "output_type": "execute_result"
    }
   ],
   "source": [
    "cat4.head()"
   ]
  },
  {
   "cell_type": "markdown",
   "id": "6f2abf76",
   "metadata": {},
   "source": [
    "Indicates which fighter has won the round. In the case of the record 0, the underdog (1) won instead of the favourite (0)."
   ]
  },
  {
   "cell_type": "markdown",
   "id": "1f649853",
   "metadata": {},
   "source": [
    "Now we standarize the numerical rows:"
   ]
  },
  {
   "cell_type": "code",
   "execution_count": 63,
   "id": "0332eb75",
   "metadata": {},
   "outputs": [
    {
     "data": {
      "text/plain": [
       "Index(['roundinfo_id', 'fight_id', 'fight_round', 'fighter_id', 'kd',\n",
       "       'sig_str_made', 'sig_str_attempted', 'sig_str_percent',\n",
       "       'total_str_made', 'total_str_attempted', 'td_made', 'td_attempted',\n",
       "       'td_percent', 'pass', 'rev', 'head_attempted', 'head_made',\n",
       "       'body_attempted', 'body_made', 'leg_attempted', 'leg_made',\n",
       "       'distance_attempted', 'distance_made', 'clinch_attempted',\n",
       "       'clinch_made', 'ground_attempted'],\n",
       "      dtype='object')"
      ]
     },
     "execution_count": 63,
     "metadata": {},
     "output_type": "execute_result"
    }
   ],
   "source": [
    "df.columns"
   ]
  },
  {
   "cell_type": "code",
   "execution_count": 64,
   "id": "b0ade7a8",
   "metadata": {},
   "outputs": [
    {
     "data": {
      "text/html": [
       "<div>\n",
       "<style scoped>\n",
       "    .dataframe tbody tr th:only-of-type {\n",
       "        vertical-align: middle;\n",
       "    }\n",
       "\n",
       "    .dataframe tbody tr th {\n",
       "        vertical-align: top;\n",
       "    }\n",
       "\n",
       "    .dataframe thead th {\n",
       "        text-align: right;\n",
       "    }\n",
       "</style>\n",
       "<table border=\"1\" class=\"dataframe\">\n",
       "  <thead>\n",
       "    <tr style=\"text-align: right;\">\n",
       "      <th></th>\n",
       "      <th>kd</th>\n",
       "      <th>sig_str_made</th>\n",
       "      <th>sig_str_attempted</th>\n",
       "      <th>sig_str_percent</th>\n",
       "      <th>total_str_made</th>\n",
       "      <th>total_str_attempted</th>\n",
       "      <th>td_made</th>\n",
       "      <th>td_attempted</th>\n",
       "      <th>td_percent</th>\n",
       "      <th>pass</th>\n",
       "      <th>...</th>\n",
       "      <th>head_made</th>\n",
       "      <th>body_attempted</th>\n",
       "      <th>body_made</th>\n",
       "      <th>leg_attempted</th>\n",
       "      <th>leg_made</th>\n",
       "      <th>distance_attempted</th>\n",
       "      <th>distance_made</th>\n",
       "      <th>clinch_attempted</th>\n",
       "      <th>clinch_made</th>\n",
       "      <th>ground_attempted</th>\n",
       "    </tr>\n",
       "  </thead>\n",
       "  <tbody>\n",
       "    <tr>\n",
       "      <th>0</th>\n",
       "      <td>14</td>\n",
       "      <td>28</td>\n",
       "      <td>50</td>\n",
       "      <td>14</td>\n",
       "      <td>28</td>\n",
       "      <td>0</td>\n",
       "      <td>1</td>\n",
       "      <td>0</td>\n",
       "      <td>0</td>\n",
       "      <td>0</td>\n",
       "      <td>...</td>\n",
       "      <td>1</td>\n",
       "      <td>1</td>\n",
       "      <td>1</td>\n",
       "      <td>1</td>\n",
       "      <td>24</td>\n",
       "      <td>11</td>\n",
       "      <td>4</td>\n",
       "      <td>3</td>\n",
       "      <td>0</td>\n",
       "      <td>0</td>\n",
       "    </tr>\n",
       "    <tr>\n",
       "      <th>1</th>\n",
       "      <td>10</td>\n",
       "      <td>19</td>\n",
       "      <td>52</td>\n",
       "      <td>10</td>\n",
       "      <td>19</td>\n",
       "      <td>0</td>\n",
       "      <td>0</td>\n",
       "      <td>0</td>\n",
       "      <td>0</td>\n",
       "      <td>0</td>\n",
       "      <td>...</td>\n",
       "      <td>1</td>\n",
       "      <td>1</td>\n",
       "      <td>4</td>\n",
       "      <td>3</td>\n",
       "      <td>15</td>\n",
       "      <td>8</td>\n",
       "      <td>4</td>\n",
       "      <td>2</td>\n",
       "      <td>0</td>\n",
       "      <td>0</td>\n",
       "    </tr>\n",
       "    <tr>\n",
       "      <th>2</th>\n",
       "      <td>10</td>\n",
       "      <td>16</td>\n",
       "      <td>62</td>\n",
       "      <td>28</td>\n",
       "      <td>36</td>\n",
       "      <td>0</td>\n",
       "      <td>0</td>\n",
       "      <td>0</td>\n",
       "      <td>0</td>\n",
       "      <td>0</td>\n",
       "      <td>...</td>\n",
       "      <td>2</td>\n",
       "      <td>2</td>\n",
       "      <td>0</td>\n",
       "      <td>0</td>\n",
       "      <td>13</td>\n",
       "      <td>8</td>\n",
       "      <td>1</td>\n",
       "      <td>1</td>\n",
       "      <td>2</td>\n",
       "      <td>1</td>\n",
       "    </tr>\n",
       "    <tr>\n",
       "      <th>3</th>\n",
       "      <td>44</td>\n",
       "      <td>72</td>\n",
       "      <td>61</td>\n",
       "      <td>64</td>\n",
       "      <td>111</td>\n",
       "      <td>3</td>\n",
       "      <td>4</td>\n",
       "      <td>75</td>\n",
       "      <td>0</td>\n",
       "      <td>0</td>\n",
       "      <td>...</td>\n",
       "      <td>1</td>\n",
       "      <td>1</td>\n",
       "      <td>2</td>\n",
       "      <td>1</td>\n",
       "      <td>7</td>\n",
       "      <td>2</td>\n",
       "      <td>1</td>\n",
       "      <td>1</td>\n",
       "      <td>64</td>\n",
       "      <td>41</td>\n",
       "    </tr>\n",
       "    <tr>\n",
       "      <th>4</th>\n",
       "      <td>7</td>\n",
       "      <td>11</td>\n",
       "      <td>63</td>\n",
       "      <td>12</td>\n",
       "      <td>16</td>\n",
       "      <td>0</td>\n",
       "      <td>0</td>\n",
       "      <td>0</td>\n",
       "      <td>0</td>\n",
       "      <td>0</td>\n",
       "      <td>...</td>\n",
       "      <td>2</td>\n",
       "      <td>2</td>\n",
       "      <td>0</td>\n",
       "      <td>0</td>\n",
       "      <td>11</td>\n",
       "      <td>7</td>\n",
       "      <td>0</td>\n",
       "      <td>0</td>\n",
       "      <td>0</td>\n",
       "      <td>0</td>\n",
       "    </tr>\n",
       "  </tbody>\n",
       "</table>\n",
       "<p>5 rows × 22 columns</p>\n",
       "</div>"
      ],
      "text/plain": [
       "   kd  sig_str_made  sig_str_attempted  sig_str_percent  total_str_made  \\\n",
       "0  14            28                 50               14              28   \n",
       "1  10            19                 52               10              19   \n",
       "2  10            16                 62               28              36   \n",
       "3  44            72                 61               64             111   \n",
       "4   7            11                 63               12              16   \n",
       "\n",
       "   total_str_attempted  td_made  td_attempted  td_percent  pass  ...  \\\n",
       "0                    0        1             0           0     0  ...   \n",
       "1                    0        0             0           0     0  ...   \n",
       "2                    0        0             0           0     0  ...   \n",
       "3                    3        4            75           0     0  ...   \n",
       "4                    0        0             0           0     0  ...   \n",
       "\n",
       "   head_made  body_attempted  body_made  leg_attempted  leg_made  \\\n",
       "0          1               1          1              1        24   \n",
       "1          1               1          4              3        15   \n",
       "2          2               2          0              0        13   \n",
       "3          1               1          2              1         7   \n",
       "4          2               2          0              0        11   \n",
       "\n",
       "   distance_attempted  distance_made  clinch_attempted  clinch_made  \\\n",
       "0                  11              4                 3            0   \n",
       "1                   8              4                 2            0   \n",
       "2                   8              1                 1            2   \n",
       "3                   2              1                 1           64   \n",
       "4                   7              0                 0            0   \n",
       "\n",
       "   ground_attempted  \n",
       "0                 0  \n",
       "1                 0  \n",
       "2                 1  \n",
       "3                41  \n",
       "4                 0  \n",
       "\n",
       "[5 rows x 22 columns]"
      ]
     },
     "execution_count": 64,
     "metadata": {},
     "output_type": "execute_result"
    }
   ],
   "source": [
    "# First, we select the numerical columns:\n",
    "dfz = df[['kd','sig_str_made', 'sig_str_attempted', 'sig_str_percent',\n",
    "       'total_str_made', 'total_str_attempted', 'td_made', 'td_attempted',\n",
    "       'td_percent', 'pass', 'rev', 'head_attempted', 'head_made',\n",
    "       'body_attempted', 'body_made', 'leg_attempted', 'leg_made',\n",
    "       'distance_attempted', 'distance_made', 'clinch_attempted',\n",
    "       'clinch_made', 'ground_attempted']]\n",
    "\n",
    "dfz.head()"
   ]
  },
  {
   "cell_type": "code",
   "execution_count": 65,
   "id": "f77dc1bc",
   "metadata": {},
   "outputs": [],
   "source": [
    "# Standarization using StanderScaler.\n",
    "X = np.array(dfz)\n",
    "scaler = StandardScaler()\n",
    "# transform data:\n",
    "X_scaled = scaler.fit_transform(X)"
   ]
  },
  {
   "cell_type": "code",
   "execution_count": 66,
   "id": "d0156eae",
   "metadata": {},
   "outputs": [
    {
     "data": {
      "text/plain": [
       "array([[-0.07487204, -0.24698737,  0.31128354, ...,  0.22355312,\n",
       "        -0.4557611 , -0.44769581],\n",
       "       [-0.42263947, -0.61970108,  0.41836741, ..., -0.05380762,\n",
       "        -0.4557611 , -0.44769581],\n",
       "       [-0.42263947, -0.74393899,  0.95378681, ..., -0.33116836,\n",
       "        -0.17005488, -0.2417205 ],\n",
       "       ...,\n",
       "       [ 0.96843023,  0.9125664 ,  0.09711578, ...,  0.7782746 ,\n",
       "        -0.4557611 , -0.44769581],\n",
       "       [ 1.57702323,  0.87115377,  0.84670293, ...,  0.7782746 ,\n",
       "        -0.4557611 , -0.44769581],\n",
       "       [ 1.57702323,  1.32669275,  0.31128354, ...,  2.44243904,\n",
       "        -0.4557611 , -0.44769581]])"
      ]
     },
     "execution_count": 66,
     "metadata": {},
     "output_type": "execute_result"
    }
   ],
   "source": [
    "X_scaled"
   ]
  },
  {
   "cell_type": "markdown",
   "id": "2a6e874b",
   "metadata": {},
   "source": [
    "Now, the numerical values of our dataset are scaled."
   ]
  },
  {
   "cell_type": "markdown",
   "id": "ecae7516",
   "metadata": {},
   "source": [
    "# Nivell 2"
   ]
  },
  {
   "cell_type": "markdown",
   "id": "ef149988",
   "metadata": {},
   "source": [
    "## Exercici 2: Continua amb el conjunt de dades de tema esportiu que t'agradi i aplica l'anàlisi de components principals."
   ]
  },
  {
   "cell_type": "markdown",
   "id": "f2df229d",
   "metadata": {},
   "source": [
    "A principal component analysis it is and PCA test. Now that we have scaled the components in our dataset we will proceed analyse them with this test.\n",
    "\n",
    "To use PCA we need our between 0 and 1, then we first will scale with MinMaxScaler, that normalizes the values of the dataset."
   ]
  },
  {
   "cell_type": "code",
   "execution_count": 67,
   "id": "7ac62771",
   "metadata": {},
   "outputs": [],
   "source": [
    "# scaling:\n",
    "scaler1 = MinMaxScaler()\n",
    "dfz_scaled = scaler1.fit_transform(dfz)"
   ]
  },
  {
   "cell_type": "code",
   "execution_count": 68,
   "id": "11d20873",
   "metadata": {},
   "outputs": [
    {
     "data": {
      "text/plain": [
       "array([[-0.22018668, -0.07377819,  0.08948336, ..., -0.02147877,\n",
       "        -0.00765531, -0.09273277],\n",
       "       [-0.2247715 , -0.13597971,  0.12712488, ...,  0.01261294,\n",
       "         0.01446376, -0.062546  ],\n",
       "       [-0.20345553, -0.1390971 ,  0.21865259, ..., -0.03711583,\n",
       "        -0.0475153 , -0.03012933],\n",
       "       ...,\n",
       "       [ 0.10520709,  0.23513869, -0.02634958, ...,  0.03784499,\n",
       "        -0.04117805, -0.05953665],\n",
       "       [ 0.73222376,  0.41699935,  0.01742415, ...,  0.21386819,\n",
       "        -0.25419307,  0.12976705],\n",
       "       [-0.23260176,  0.33479196,  0.07713844, ...,  0.13593415,\n",
       "         0.03021292, -0.10899155]])"
      ]
     },
     "execution_count": 68,
     "metadata": {},
     "output_type": "execute_result"
    }
   ],
   "source": [
    "pca_test = PCA(n_components=0.95) #we take the components that have the variance around the 95% of confidence\n",
    "pca_test.fit(dfz_scaled)\n",
    "red = pca_test.transform(dfz_scaled) #transform and save the data into the variable red.\n",
    "red"
   ]
  },
  {
   "cell_type": "markdown",
   "id": "fa7623fd",
   "metadata": {},
   "source": [
    "# Nivell 3"
   ]
  },
  {
   "cell_type": "markdown",
   "id": "08fdb635",
   "metadata": {},
   "source": [
    "## Exercici 3: Continua amb el conjunt de dades de tema esportiu que t'agradi i normalitza les dades tenint en compte els outliers."
   ]
  },
  {
   "cell_type": "markdown",
   "id": "d0ded78f",
   "metadata": {},
   "source": [
    "The outliers are what are called the tails of the functions, they appear when functions are skewed (either left or right). So, during the analysis of the data having a tail (or heavy tail, as are called when they appear on power law distributions) may condition the result of the statistic analysis we might want to do next.\n",
    "\n",
    "To take into account the outliers, we will be deleting the rows that are larger than the upper limit or smaller than the lower limit. And, then we will normalize the dataset using MinMaxScaler. To do so, we will be using one of the more statitical revelant features in the dataset: total_str_made.\n",
    "\n",
    "First, we take a feature from our data with a high skew:"
   ]
  },
  {
   "cell_type": "code",
   "execution_count": 69,
   "id": "ddb6aa28",
   "metadata": {},
   "outputs": [
    {
     "data": {
      "text/plain": [
       "0.9577914466334638"
      ]
     },
     "execution_count": 69,
     "metadata": {},
     "output_type": "execute_result"
    }
   ],
   "source": [
    "stats.skew(df.total_str_made, bias=False)"
   ]
  },
  {
   "cell_type": "code",
   "execution_count": 70,
   "id": "2d0c6316",
   "metadata": {},
   "outputs": [
    {
     "data": {
      "image/png": "[encoded data removed]",
      "text/plain": [
       "<Figure size 432x288 with 1 Axes>"
      ]
     },
     "metadata": {
      "needs_background": "light"
     },
     "output_type": "display_data"
    }
   ],
   "source": [
    "# we will choose the total strike made.\n",
    "sns.distplot(df['total_str_made'], fit=stats.norm, kde=True)\n",
    "plt.title('Distribution of total strikes made.')\n",
    "plt.show()\n",
    "#graph 1"
   ]
  },
  {
   "cell_type": "markdown",
   "id": "b8a167e8",
   "metadata": {},
   "source": [
    "In graph 1, we can see that this feature distribution is skewed to the right, as we can see since we plotted the normal distribution over, dark continuus line. In the graph we also realize that the outliners seem to be up to the 100 strikes made, now we will use boxplot, that is a plot function that \"switches\" the view of the histogram, to have another look to the outliners."
   ]
  },
  {
   "cell_type": "code",
   "execution_count": 71,
   "id": "555b7aba",
   "metadata": {},
   "outputs": [
    {
     "data": {
      "image/png": "[encoded data removed]",
      "text/plain": [
       "<Figure size 432x288 with 1 Axes>"
      ]
     },
     "metadata": {
      "needs_background": "light"
     },
     "output_type": "display_data"
    }
   ],
   "source": [
    "sns.boxplot(df['total_str_made'])\n",
    "plt.title('Outliners of total strikes made.')\n",
    "plt.show()\n",
    "#graph 2"
   ]
  },
  {
   "cell_type": "markdown",
   "id": "3c74bfa7",
   "metadata": {},
   "source": [
    "As we have seen in the distribution plot, the outliners (diamonds) in the graph 2 are the values greater than 100, are on the tail of the distribution.\n",
    "\n",
    "Now, we need to treat this tail. There are few interesting ways to treat this tail, the most used is the Tukey's fences, which we will be using, since it takes into account the quantiles, for the lower limit and for the upper limit:\n",
    "$$ \\left[ Q1 - k*IQR, Q3 + k*IQR \\right]$$\n",
    "\n",
    "Where Q1 is the first quantile, Q3 is the 3rd quantile, $IQR = Q3 - Q1$, and k is a non-negative constant, which Tukey assigned the value $k=1.5$ for an outlier while $k=3$ it's assigned for a \"far out\".\n",
    "\n",
    "\n",
    "Other methods are the Pierce criterion, the anomaly detection or the Modified Thompson Tau test.\n",
    "\n",
    "https://en.wikipedia.org/wiki/Outlier"
   ]
  },
  {
   "cell_type": "code",
   "execution_count": 72,
   "id": "62c57831",
   "metadata": {},
   "outputs": [],
   "source": [
    "Q1 = df.total_str_made.quantile(0.25)\n",
    "Q3 = df.total_str_made.quantile(0.75)\n",
    "IQR = Q3 - Q1"
   ]
  },
  {
   "cell_type": "code",
   "execution_count": 73,
   "id": "788c157b",
   "metadata": {},
   "outputs": [
    {
     "name": "stdout",
     "output_type": "stream",
     "text": [
      "upper boundary:109.0 and lower boundary:-27.0\n"
     ]
    }
   ],
   "source": [
    "# now lets get the upper limit and the lower limit. Actually, since out skew is on the right we don't need the lower\n",
    "# limit\n",
    "upper_lim = Q3 + 1.5*IQR\n",
    "lower_lim = Q1 - 1.5*IQR\n",
    "print('upper boundary:{} and lower boundary:{}'.format(upper_lim, lower_lim))"
   ]
  },
  {
   "cell_type": "markdown",
   "id": "92ea7be7",
   "metadata": {},
   "source": [
    "We can see that the lower boundary is outside the values of our data, thus there is no outliers on the left side. While the upper boundary falls into the range we assuming the tail would began: around 100.\n",
    "\n",
    "Now let's remove the rows that are over the upper_lim."
   ]
  },
  {
   "cell_type": "code",
   "execution_count": 74,
   "id": "e0254fd2",
   "metadata": {},
   "outputs": [],
   "source": [
    "indx = np.where(df.total_str_made >= upper_lim)\n",
    "dfa = df.drop(indx[0]) # [0] does the array 1D! We don't write inplace because we don't want to overwrite the df!"
   ]
  },
  {
   "cell_type": "code",
   "execution_count": 75,
   "id": "592bfb17",
   "metadata": {},
   "outputs": [
    {
     "data": {
      "text/plain": [
       "(29620, 26)"
      ]
     },
     "execution_count": 75,
     "metadata": {},
     "output_type": "execute_result"
    }
   ],
   "source": [
    "dfa.shape"
   ]
  },
  {
   "cell_type": "markdown",
   "id": "cd767aae",
   "metadata": {},
   "source": [
    "Let's drop the categorical features and do the normalization over the numerical ones."
   ]
  },
  {
   "cell_type": "code",
   "execution_count": 76,
   "id": "50178931",
   "metadata": {},
   "outputs": [],
   "source": [
    "dfx = dfa[['kd','sig_str_made', 'sig_str_attempted', 'sig_str_percent',\n",
    "       'total_str_made', 'total_str_attempted', 'td_made', 'td_attempted',\n",
    "       'td_percent', 'pass', 'rev', 'head_attempted', 'head_made',\n",
    "       'body_attempted', 'body_made', 'leg_attempted', 'leg_made',\n",
    "       'distance_attempted', 'distance_made', 'clinch_attempted',\n",
    "       'clinch_made', 'ground_attempted']]"
   ]
  },
  {
   "cell_type": "code",
   "execution_count": 77,
   "id": "e6ad82f5",
   "metadata": {},
   "outputs": [],
   "source": [
    "scaler = MinMaxScaler()\n",
    "df_scaled = scaler.fit_transform(dfx)\n",
    "df_scaled = pd.DataFrame(df_scaled, columns=['kd','sig_str_made', 'sig_str_attempted', 'sig_str_percent',\n",
    "                                             'total_str_made', 'total_str_attempted', 'td_made', 'td_attempted',\n",
    "                                             'td_percent', 'pass', 'rev', 'head_attempted', 'head_made',\n",
    "                                             'body_attempted', 'body_made', 'leg_attempted', 'leg_made',\n",
    "                                             'distance_attempted', 'distance_made', 'clinch_attempted',\n",
    "                                             'clinch_made', 'ground_attempted'])"
   ]
  },
  {
   "cell_type": "code",
   "execution_count": 78,
   "id": "3f4a7239",
   "metadata": {},
   "outputs": [
    {
     "data": {
      "image/png": "[encoded data removed]",
      "text/plain": [
       "<Figure size 432x288 with 1 Axes>"
      ]
     },
     "metadata": {
      "needs_background": "light"
     },
     "output_type": "display_data"
    }
   ],
   "source": [
    "sns.distplot(df_scaled['total_str_made'], fit=stats.norm, kde=True)\n",
    "plt.title('Distribution scaled of total strikes made.')\n",
    "plt.show()\n",
    "#graph 3"
   ]
  },
  {
   "cell_type": "markdown",
   "id": "178089fa",
   "metadata": {},
   "source": [
    "Graph 3 shows the scaled distribution of the total strikes made, if we fit a normal distribution to the data, we can see that more or less the distribution of the data vs the distribution of the normal are similar.\n",
    "\n",
    "Since the data is now normalized we can proceed to do a PCA, ANOVA or Pearson's correlation analysis, its results will be more statistically significant than using raw data with outliers.\n",
    "\n",
    "For completness we will get the skewness, mean and std."
   ]
  },
  {
   "cell_type": "code",
   "execution_count": 79,
   "id": "f1ec29ef",
   "metadata": {},
   "outputs": [
    {
     "name": "stdout",
     "output_type": "stream",
     "text": [
      "Non-Normalized data w outliers: Mean:43, StandardDeviation:26, Skewness: 1\n",
      "Normalized data w/t outliers: Mean:0.4, StandardDeviation:0.2, Skewness: 0.4\n"
     ]
    }
   ],
   "source": [
    "m = df.total_str_made.mean()\n",
    "sd = df.total_str_made.std()\n",
    "sk = stats.skew(df.total_str_made, bias=False)\n",
    "\n",
    "print('Non-Normalized data w outliers: Mean:{:.0f}, StandardDeviation:{:.0f}, Skewness: {:.0f}'\n",
    "      .format(m,sd,sk)) # std is first decimal\n",
    "\n",
    "m = df_scaled.total_str_made.mean()\n",
    "sd = df_scaled.total_str_made.std()\n",
    "sk = stats.skew(df_scaled.total_str_made, bias=False)\n",
    "\n",
    "print('Normalized data w/t outliers: Mean:{:.1f}, StandardDeviation:{:.1f}, Skewness: {:.1f}'\n",
    "      .format(m,sd,sk)) # std is first decimal"
   ]
  },
  {
   "cell_type": "markdown",
   "id": "e4103a35",
   "metadata": {},
   "source": [
    "The with the data normalized taking into account the outliers, we have reduced quantitevily the skewness of the dataset, from nearly 1 to 0.4."
   ]
  }
 ],
 "metadata": {
  "kernelspec": {
   "display_name": "Python 3 (ipykernel)",
   "language": "python",
   "name": "python3"
  },
  "language_info": {
   "codemirror_mode": {
    "name": "ipython",
    "version": 3
   },
   "file_extension": ".py",
   "mimetype": "text/x-python",
   "name": "python",
   "nbconvert_exporter": "python",
   "pygments_lexer": "ipython3",
   "version": "3.9.7"
  },
  "latex_envs": {
   "LaTeX_envs_menu_present": true,
   "autoclose": false,
   "autocomplete": true,
   "bibliofile": "biblio.bib",
   "cite_by": "apalike",
   "current_citInitial": 1,
   "eqLabelWithNumbers": true,
   "eqNumInitial": 1,
   "hotkeys": {
    "equation": "Ctrl-E",
    "itemize": "Ctrl-I"
   },
   "labels_anchors": false,
   "latex_user_defs": false,
   "report_style_numbering": false,
   "user_envs_cfg": false
  }
 },
 "nbformat": 4,
 "nbformat_minor": 5
}
